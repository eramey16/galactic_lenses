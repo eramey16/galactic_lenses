{
 "cells": [
  {
   "cell_type": "code",
   "execution_count": null,
   "id": "a89fc620",
   "metadata": {},
   "outputs": [],
   "source": [
    "from dl import queryClient as qc, helpers\n",
    "from dl import authClient as ac\n",
    "from dl import storeClient as sc\n",
    "from dl.helpers.utils import convert"
   ]
  },
  {
   "cell_type": "code",
   "execution_count": null,
   "id": "13d22163",
   "metadata": {},
   "outputs": [],
   "source": [
    "# Set up basic query\n",
    "query =[f\"\"\"SELECT {query_cols} FROM ls_dr9.tractor AS trac \n",
    "INNER JOIN ls_dr9.photo_z AS phot_z ON trac.ls_id = phot_z.ls_id \n",
    "WHERE (q3c_radial_query(ra,dec,{ra},{dec},{radius})) \"\"\",\n",
    "f\"\"\" ORDER BY q3c_dist({ra}, {dec}, trac.ra, trac.dec) ASC\"\"\",\n",
    "f\"\"\" LIMIT {limit}\"\"\"]\n",
    "# Add data type, if specified\n",
    "if data_type is not None:\n",
    "    query.insert(1,f\"\"\" AND (type = '{data_type}') \"\"\")\n",
    "# Join full query\n",
    "query = ''.join(query)\n",
    "\n",
    "# Send query to NOIRlab\n",
    "try:\n",
    "    result10 = qc.query(sql=query) # result as string\n",
    "    data = convert(result10, \"pandas\") # result as dataframe\n",
    "    if data.empty:\n",
    "        raise ValueError(f\"No objects within {radius} of {ra},{dec}\")"
   ]
  }
 ],
 "metadata": {
  "kernelspec": {
   "display_name": "monocle",
   "language": "python",
   "name": "monocle"
  },
  "language_info": {
   "codemirror_mode": {
    "name": "ipython",
    "version": 3
   },
   "file_extension": ".py",
   "mimetype": "text/x-python",
   "name": "python",
   "nbconvert_exporter": "python",
   "pygments_lexer": "ipython3",
   "version": "3.11.2"
  }
 },
 "nbformat": 4,
 "nbformat_minor": 5
}

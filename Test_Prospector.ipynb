{
 "cells": [
  {
   "cell_type": "code",
   "execution_count": 1,
   "id": "aefbcac0-e20d-4484-9972-04981db937f3",
   "metadata": {
    "tags": []
   },
   "outputs": [
    {
     "name": "stderr",
     "output_type": "stream",
     "text": [
      "<frozen importlib._bootstrap>:228: RuntimeWarning: scipy._lib.messagestream.MessageStream size changed, may indicate binary incompatibility. Expected 56 from C header, got 64 from PyObject\n"
     ]
    }
   ],
   "source": [
    "import os\n",
    "os.environ[\"SPS_HOME\"] = '/global/homes/e/eramey16/fsps/'\n",
    "\n",
    "import fsps\n",
    "import dynesty\n",
    "import sedpy\n",
    "import h5py, astropy\n",
    "import numpy as np\n",
    "import pandas as pd\n",
    "from docker import classify"
   ]
  },
  {
   "cell_type": "code",
   "execution_count": 2,
   "id": "0dbcd4c9-9198-458a-8a9d-bcbb1589da46",
   "metadata": {
    "tags": []
   },
   "outputs": [],
   "source": [
    "ls_id = 9906619143751091 #IPTF16geu"
   ]
  },
  {
   "cell_type": "code",
   "execution_count": 3,
   "id": "78043d35-6cbd-4502-aa6c-1dcdce90a5f4",
   "metadata": {
    "tags": []
   },
   "outputs": [
    {
     "name": "stdout",
     "output_type": "stream",
     "text": [
      "usage: ipykernel_launcher.py [-h] [--verbose VERBOSE] [--debug]\n",
      "                             [--outfile OUTFILE] [--output_pickle]\n",
      "                             [--zcontinuous ZCONTINUOUS] [--optimize]\n",
      "                             [--min_method MIN_METHOD] [--min_opts MIN_OPTS]\n",
      "                             [--nmin NMIN] [--emcee] [--nwalkers NWALKERS]\n",
      "                             [--niter NITER] [--nburn [NBURN ...]]\n",
      "                             [--save_interval INTERVAL]\n",
      "                             [--restart_from RESTART_FROM]\n",
      "                             [--ensemble_dispersion INITIAL_DISP] [--dynesty]\n",
      "                             [--nested_bound {single,multi,balls,cubes}]\n",
      "                             [--nested_sample {unif,rwalk,slice}]\n",
      "                             [--nested_walks NESTED_WALKS]\n",
      "                             [--nlive_init NESTED_NLIVE_INIT]\n",
      "                             [--nlive_batch NESTED_NLIVE_BATCH]\n",
      "                             [--nested_dlogz_init NESTED_DLOGZ_INIT]\n",
      "                             [--nested_maxcall NESTED_MAXCALL]\n",
      "                             [--nested_maxiter NESTED_MAXITER]\n",
      "                             [--nested_maxbatch NESTED_MAXBATCH]\n",
      "                             [--nested_bootstrap NESTED_BOOTSTRAP]\n",
      "                             [--nested_posterior_thresh NESTED_POSTERIOR_THRESH]\n",
      "\n",
      "optional arguments:\n",
      "  -h, --help            show this help message and exit\n",
      "  --verbose VERBOSE     Whether to print lots of stuff (default: 1)\n",
      "  --debug               If set, halt execution just before optimization and\n",
      "                        sampling, but after the obs, model, and sps objects\n",
      "                        have been built. (default: False)\n",
      "  --outfile OUTFILE     Root name (including path) of the output file(s).\n",
      "                        (default: prospector_test_run)\n",
      "  --output_pickle       If set, output pickles in addition to HDF5. (default:\n",
      "                        False)\n",
      "  --zcontinuous ZCONTINUOUS\n",
      "                        The type of metallicity parameterization to use. See\n",
      "                        python-FSPS documentation for details. (default: 1)\n",
      "  --optimize            If set, do an optimization before sampling. (default:\n",
      "                        False)\n",
      "  --min_method MIN_METHOD\n",
      "                        The scipy.optimize method to use for minimization.One\n",
      "                        of 'lm' (Levenberg-Marquardt) or 'powell' (powell\n",
      "                        line-search.) (default: lm)\n",
      "  --min_opts MIN_OPTS   Minimization parameters. See scipy.optimize. (default:\n",
      "                        {})\n",
      "  --nmin NMIN           Number of draws from the prior from which to start\n",
      "                        minimization.nmin > 1 can be useful to avoid local\n",
      "                        minima (default: 1)\n",
      "  --emcee               If set, do ensemble MCMC sampling with emcee.\n",
      "                        (default: False)\n",
      "  --nwalkers NWALKERS   Number of `emcee` walkers. (default: 64)\n",
      "  --niter NITER         Number of iterations in the `emcee` production run\n",
      "                        (default: 512)\n",
      "  --nburn [NBURN ...]   Specify the rounds of burn-in for `emcee` by giving\n",
      "                        the number of iterations in each round as a list.\n",
      "                        After each round the walkers are reinitialized based\n",
      "                        on the locations of the best half of the walkers.\n",
      "                        (default: [16, 32, 64])\n",
      "  --save_interval INTERVAL\n",
      "                        Number between 0 and 1 giving the fraction of the\n",
      "                        `emcee` production run at which to write the current\n",
      "                        chains to disk. Useful in case an expensive `emcee`\n",
      "                        run dies. (default: 0.2)\n",
      "  --restart_from RESTART_FROM\n",
      "                        If given, the name of a file that contains a previous\n",
      "                        `emcee` run from which to try and restart emcee\n",
      "                        sampling.In this case niter gives the number of\n",
      "                        additional iterations to run for; all other options\n",
      "                        are ignored (they are taken from the previous run.)\n",
      "                        (default: )\n",
      "  --ensemble_dispersion INITIAL_DISP\n",
      "                        Initial dispersion in parameter value for the `emcee`\n",
      "                        walkers. This can be overriden for individual\n",
      "                        parameters by adding an 'init_disp' key to the\n",
      "                        parameter specification dictionary for that parameter.\n",
      "                        (default: 0.1)\n",
      "  --dynesty             If set, do nested sampling with dynesty. (default:\n",
      "                        False)\n",
      "  --nested_bound {single,multi,balls,cubes}\n",
      "                        Method for bounding the prior volume when drawing new\n",
      "                        points. One of single | multi | balls | cubes\n",
      "                        (default: multi)\n",
      "  --nested_sample {unif,rwalk,slice}, --nested_method {unif,rwalk,slice}\n",
      "                        Method for drawing new points during sampling. One of\n",
      "                        unif | rwalk | slice (default: slice)\n",
      "  --nested_walks NESTED_WALKS\n",
      "                        Number of Metropolis steps to take when\n",
      "                        `nested_sample` is 'rwalk' (default: 48)\n",
      "  --nlive_init NESTED_NLIVE_INIT\n",
      "                        Number of live points for the intial nested sampling\n",
      "                        run. (default: 100)\n",
      "  --nlive_batch NESTED_NLIVE_BATCH\n",
      "                        Number of live points for the dynamic nested sampling\n",
      "                        batches (default: 100)\n",
      "  --nested_dlogz_init NESTED_DLOGZ_INIT\n",
      "                        Stop the initial run when the remaining evidence is\n",
      "                        estimated to be less than this. (default: 0.05)\n",
      "  --nested_maxcall NESTED_MAXCALL\n",
      "                        Maximum number of likelihood calls during nested\n",
      "                        sampling. This will only be enforced after the initial\n",
      "                        pass (default: 50000000)\n",
      "  --nested_maxiter NESTED_MAXITER\n",
      "                        Maximum number of iterations during nested sampling.\n",
      "                        This will only be enforced after the initial pass\n",
      "                        (default: 1000000)\n",
      "  --nested_maxbatch NESTED_MAXBATCH\n",
      "                        Maximum number of dynamic batches. (default: 10)\n",
      "  --nested_bootstrap NESTED_BOOTSTRAP\n",
      "                        Number of bootstrap resamplings to use when estimating\n",
      "                        ellipsoid expansion factor. (default: 0)\n",
      "  --nested_posterior_thresh NESTED_POSTERIOR_THRESH\n",
      "                        Stop when the fractional scatter in the K-L divergence\n",
      "                        of the posterior estimates reaches this value\n",
      "                        (default: 0.05)\n"
     ]
    }
   ],
   "source": [
    "from prospect import prospect_args\n",
    "parser = prospect_args.get_parser()\n",
    "parser.print_help()"
   ]
  },
  {
   "cell_type": "code",
   "execution_count": 4,
   "id": "ae673b92-1713-4cf5-9c1a-7f6c4e1f6c50",
   "metadata": {},
   "outputs": [
    {
     "data": {
      "text/plain": [
       "ls_id            9906619143751091\n",
       "ra                     316.066216\n",
       "dec                     -6.340221\n",
       "type                          REX\n",
       "dered_mag_g             20.250755\n",
       "dered_mag_r              18.86748\n",
       "dered_mag_z             17.944523\n",
       "dered_mag_w1             17.25038\n",
       "dered_mag_w2            17.611616\n",
       "dered_flux_g             7.937765\n",
       "dered_flux_r             28.37973\n",
       "dered_flux_z             66.40348\n",
       "dered_flux_w1           125.84846\n",
       "dered_flux_w2            90.23046\n",
       "snr_g                   128.86171\n",
       "snr_r                   213.08531\n",
       "snr_z                   480.05804\n",
       "snr_w1                  143.01906\n",
       "snr_w2                   59.99879\n",
       "flux_ivar_g              430.3113\n",
       "flux_ivar_r              78.43762\n",
       "flux_ivar_z             62.868927\n",
       "flux_ivar_w1             1.328257\n",
       "flux_ivar_w2             0.449847\n",
       "dchisq_1                236241.66\n",
       "dchisq_2                263783.94\n",
       "dchisq_3                266028.38\n",
       "dchisq_4                264630.44\n",
       "dchisq_5                      0.0\n",
       "rchisq_g                  1.63216\n",
       "rchisq_r                 2.068183\n",
       "rchisq_z                 4.242084\n",
       "rchisq_w1               16.638714\n",
       "rchisq_w2                1.547884\n",
       "sersic                        1.0\n",
       "sersic_ivar                   0.0\n",
       "psfsize_g                1.783314\n",
       "psfsize_r                1.448459\n",
       "psfsize_z                1.324974\n",
       "shape_r                  0.500931\n",
       "shape_e1                      0.0\n",
       "shape_e2                      0.0\n",
       "shape_r_ivar            310472.66\n",
       "shape_e1_ivar                 0.0\n",
       "shape_e2_ivar                 0.0\n",
       "z_phot_median            0.263183\n",
       "z_phot_std               0.111112\n",
       "z_spec                      -99.0\n",
       "Name: 0, dtype: object"
      ]
     },
     "execution_count": 4,
     "metadata": {},
     "output_type": "execute_result"
    }
   ],
   "source": [
    "# Try it with a more standard fit\n",
    "from sedpy.observate import load_filters\n",
    "from prospect.utils.obsutils import fix_obs\n",
    "\n",
    "bkdata, tbldata = classify.get_galaxy(ls_id=ls_id)\n",
    "gal_data = tbldata.iloc[0]\n",
    "gal_data"
   ]
  },
  {
   "cell_type": "code",
   "execution_count": 5,
   "id": "e4f29b3f-fe4a-4a43-9694-436b2742747c",
   "metadata": {
    "tags": []
   },
   "outputs": [],
   "source": [
    "# Get galaxy data\n",
    "bands = ['g', 'r', 'z', 'w1', 'w2']\n",
    "sdss = ['sdss_{}0'.format(b) for b in ['g','r','z']]\n",
    "wise = ['wise_w1', 'wise_w2']\n",
    "filternames = sdss + wise\n",
    "\n",
    "filters = load_filters(filternames)\n",
    "maggies = np.array([10**(-.4*gal_data[f'dered_mag_{b}']) for b in bands])\n",
    "magerr = [ 2.5 / (np.log(10) * gal_data['dered_flux_'+b] * \n",
    "                        np.sqrt(gal_data['flux_ivar_'+b])) for b in bands]\n",
    "magerr = np.clip(magerr, 0.05, np.inf)"
   ]
  },
  {
   "cell_type": "code",
   "execution_count": 6,
   "id": "fa63781b-be9b-4122-b014-a2b641de3ac4",
   "metadata": {
    "tags": []
   },
   "outputs": [],
   "source": [
    "# Build obs\n",
    "obs = dict(wavelength=None, spectrum=None, unc=None, redshift=gal_data['z_phot_median'],\n",
    "           maggies=maggies, maggies_unc=magerr * maggies / 1.086, filters=filters)\n",
    "obs = fix_obs(obs)"
   ]
  },
  {
   "cell_type": "code",
   "execution_count": 7,
   "id": "9c0aaa20-d413-4997-a3f5-22d1b5234d6b",
   "metadata": {
    "tags": []
   },
   "outputs": [
    {
     "name": "stdout",
     "output_type": "stream",
     "text": [
      ":::::::\n",
      "<class 'prospect.models.sedmodel.PolySpecModel'>\n",
      "\n",
      "Free Parameters: (name: prior) \n",
      "-----------\n",
      "  logzsol: <class 'prospect.models.priors.TopHat'>(mini=-2,maxi=0.19)\n",
      "  dust2: <class 'prospect.models.priors.TopHat'>(mini=0.0,maxi=2.0)\n",
      "  logmass: <class 'prospect.models.priors.TopHat'>(mini=7,maxi=12)\n",
      "  logsfr_ratios: <class 'prospect.models.priors.StudentT'>(mean=[0. 0.],scale=[0.3 0.3],df=[2 2])\n",
      "\n",
      "Fixed Parameters: (name: value [, depends_on]) \n",
      "-----------\n",
      "  zred: [0.263183] \n",
      "  mass: [1000000.] <function logsfr_ratios_to_masses at 0x7f57687b7f70>\n",
      "  sfh: [3] \n",
      "  imf_type: [2] \n",
      "  dust_type: [0] \n",
      "  agebins: [[ 0.  8.]\n",
      " [ 8.  9.]\n",
      " [ 9. 10.]] \n",
      "  add_neb_emission: [ True] \n",
      "  add_neb_continuum: [ True] \n",
      "  nebemlineinspec: [ True] \n",
      "  gas_logz: [0.] <function stellar_logzsol at 0x7f5768d96310>\n",
      "  gas_logu: [-2.] \n"
     ]
    }
   ],
   "source": [
    "# Build model\n",
    "from prospect.models.templates import TemplateLibrary\n",
    "from prospect.models import PolySpecModel\n",
    "model_params = TemplateLibrary[\"continuity_sfh\"]\n",
    "model_params.update(TemplateLibrary[\"nebular\"])\n",
    "model_params[\"zred\"][\"init\"] = obs[\"redshift\"]\n",
    "\n",
    "model = PolySpecModel(model_params)\n",
    "noise_model = (None, None)\n",
    "\n",
    "print(model)"
   ]
  },
  {
   "cell_type": "code",
   "execution_count": 8,
   "id": "ed4d5fb5-4c14-4800-8db8-e3e03a97d390",
   "metadata": {
    "tags": []
   },
   "outputs": [
    {
     "name": "stdout",
     "output_type": "stream",
     "text": [
      "(b'mist', b'miles', b'DL07')\n"
     ]
    }
   ],
   "source": [
    "from prospect.sources import CSPSpecBasis\n",
    "sps = CSPSpecBasis(zcontinuous=1)\n",
    "print(sps.ssp.libraries)"
   ]
  },
  {
   "cell_type": "code",
   "execution_count": null,
   "id": "2c10e54b-393d-4542-a017-5663f31b964f",
   "metadata": {
    "tags": []
   },
   "outputs": [],
   "source": [
    "from prospect.fitting import lnprobfn, fit_model\n",
    "fitting_kwargs = dict(nlive_init=400, nested_method=\"rwalk\", nested_target_n_effective=1000, nested_dlogz_init=0.05)\n",
    "output = fit_model(obs, model, sps, optimize=True, dynesty=True, lnprobfn=lnprobfn, noise=noise_model, **fitting_kwargs)\n",
    "result, duration = output[\"sampling\"]"
   ]
  },
  {
   "cell_type": "code",
   "execution_count": null,
   "id": "937b02e0-296b-4004-8896-f3ecacadbcb9",
   "metadata": {},
   "outputs": [],
   "source": [
    "from prospect.io import write_results as writer\n",
    "hfile = \"./quickstart_dynesty_mcmc.h5\"\n",
    "writer.write_hdf5(hfile, {}, model, obs,\n",
    "                 output[\"sampling\"][0], None,\n",
    "                 sps=sps,\n",
    "                 tsample=output[\"sampling\"][1],\n",
    "                 toptimize=0.0)"
   ]
  }
 ],
 "metadata": {
  "kernelspec": {
   "display_name": "MyProspector",
   "language": "python",
   "name": "myprospector"
  },
  "language_info": {
   "codemirror_mode": {
    "name": "ipython",
    "version": 3
   },
   "file_extension": ".py",
   "mimetype": "text/x-python",
   "name": "python",
   "nbconvert_exporter": "python",
   "pygments_lexer": "ipython3",
   "version": "3.9.18"
  }
 },
 "nbformat": 4,
 "nbformat_minor": 5
}

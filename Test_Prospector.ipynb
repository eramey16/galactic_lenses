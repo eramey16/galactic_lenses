{
 "cells": [
  {
   "cell_type": "markdown",
   "id": "0eabd4fb-89b6-46c6-8d02-43fb21285874",
   "metadata": {},
   "source": [
    "# Testing Prospector Model & Likelihood"
   ]
  },
  {
   "cell_type": "code",
   "execution_count": 1,
   "id": "50493c9d-f06d-4a3f-933b-05205c3d517a",
   "metadata": {
    "tags": []
   },
   "outputs": [],
   "source": [
    "import os\n",
    "import numpy as np\n",
    "os.environ[\"SPS_HOME\"] = '/global/homes/e/eramey16/fsps/'\n",
    "h5_file = os.path.expandvars(\"$SCRATCH/data/monocle/test/10995462702105256.h5\")\n",
    "\n",
    "from docker import param_monocle as param\n",
    "from docker import classify\n",
    "import prospect.io.read_results as reader\n",
    "import h5py\n",
    "import pickle\n",
    "import dynesty"
   ]
  },
  {
   "cell_type": "code",
   "execution_count": 2,
   "id": "2a766c27-0fbb-40ad-868f-79bc4681e41b",
   "metadata": {
    "tags": []
   },
   "outputs": [
    {
     "name": "stdout",
     "output_type": "stream",
     "text": [
      "Loaded observation\n",
      "Loaded SPS libraries\n"
     ]
    }
   ],
   "source": [
    "res1, _, _ = reader.results_from(h5_file)\n",
    "\n",
    "mag_unc_1 = np.array([0.005395851583585794, 0.0034580493543346622, 0.004425482546800575,\n",
    "                 0.004152162899013791, 0.011291867461568727, 0.04210798998385776])*5\n",
    "args_1 = {\n",
    "    \"mag_in\": [20.717947, 19.274029, 18.668655, 18.314737, 17.77136, 18.470882],\n",
    "    \"mag_unc_in\": mag_unc_1,\n",
    "    \"object_redshift\": None,\n",
    "}\n",
    "run_params = param.run_params\n",
    "obs_1, model_1, sps_1, noise_model_1 = param.load_all(args=args_1, **run_params)\n",
    "spec_noise_1, phot_noise_1 = noise_model_1"
   ]
  },
  {
   "cell_type": "code",
   "execution_count": 3,
   "id": "20982c06-01a4-4486-93b9-c79cd57ad84f",
   "metadata": {
    "tags": []
   },
   "outputs": [
    {
     "name": "stdout",
     "output_type": "stream",
     "text": [
      "Loaded observation\n",
      "Loaded SPS libraries\n"
     ]
    }
   ],
   "source": [
    "mag_unc_2 = np.array([0.005395851583585794, 0.0034580493543346622, 0.004425482546800575,\n",
    "                 0.004152162899013791, 0.011291867461568727, 0.04210798998385776])\n",
    "args_2 = {\n",
    "    \"mag_in\": [20.717947, 19.274029, 18.668655, 18.314737, 17.77136, 18.470882],\n",
    "    \"mag_unc_in\": mag_unc_2,\n",
    "    \"object_redshift\": None,\n",
    "}\n",
    "\n",
    "obs_2, model_2, sps_2, noise_model_2 = param.load_all(args=args_2, **run_params)\n",
    "spec_noise_2, phot_noise_2 = noise_model_2"
   ]
  },
  {
   "cell_type": "code",
   "execution_count": 4,
   "id": "781f48bc-c7c5-46ca-8b93-eb081022f8c6",
   "metadata": {
    "tags": []
   },
   "outputs": [],
   "source": [
    "def loglikelihood1(theta_vec):\n",
    "    return param.lnprobfn(theta_vec, model=model_1, obs=obs_1, def_sps=sps_1,\n",
    "                          def_noise_model=noise_model_1)\n",
    "def loglikelihood2(theta_vec):\n",
    "    return param.lnprobfn(theta_vec, model=model_2, obs=obs_2, def_sps=sps_2, \n",
    "                          def_noise_model=noise_model_2)"
   ]
  },
  {
   "cell_type": "code",
   "execution_count": 5,
   "id": "c8b1290f-ae94-487f-8d93-f0d23f36e0b8",
   "metadata": {
    "tags": []
   },
   "outputs": [
    {
     "data": {
      "text/plain": [
       "(-261159996.25403342, -543201163.3229702)"
      ]
     },
     "execution_count": 5,
     "metadata": {},
     "output_type": "execute_result"
    }
   ],
   "source": [
    "loglikelihood1(res1['chain'][0,:]), loglikelihood2(res1['chain'][0,:])"
   ]
  },
  {
   "cell_type": "code",
   "execution_count": 6,
   "id": "50dba2b9-cf06-4d9d-89aa-e068d76ed030",
   "metadata": {
    "tags": []
   },
   "outputs": [],
   "source": [
    "with open('10995462702105256.pkl', 'rb') as file:\n",
    "    dres = pickle.load(file)"
   ]
  },
  {
   "cell_type": "code",
   "execution_count": 9,
   "id": "f6065561-ee56-48c4-b0ba-96f06bf4048c",
   "metadata": {},
   "outputs": [],
   "source": [
    "N = dres['samples'].shape[0]\n",
    "logl2 = [loglikelihood2(dres['samples'][i]) for i in range(N)]"
   ]
  },
  {
   "cell_type": "code",
   "execution_count": 10,
   "id": "1b0c9248-5648-420f-b154-de956b704a0e",
   "metadata": {
    "tags": []
   },
   "outputs": [
    {
     "ename": "AssertionError",
     "evalue": "blob",
     "output_type": "error",
     "traceback": [
      "\u001b[0;31m---------------------------------------------------------------------------\u001b[0m",
      "\u001b[0;31mAssertionError\u001b[0m                            Traceback (most recent call last)",
      "Cell \u001b[0;32mIn[10], line 1\u001b[0m\n\u001b[0;32m----> 1\u001b[0m dres_rwt \u001b[38;5;241m=\u001b[39m \u001b[43mdynesty\u001b[49m\u001b[38;5;241;43m.\u001b[39;49m\u001b[43mutils\u001b[49m\u001b[38;5;241;43m.\u001b[39;49m\u001b[43mreweight_run\u001b[49m\u001b[43m(\u001b[49m\u001b[43mdres\u001b[49m\u001b[43m,\u001b[49m\u001b[43m \u001b[49m\u001b[43mlogp_new\u001b[49m\u001b[38;5;241;43m=\u001b[39;49m\u001b[43mlogl2\u001b[49m\u001b[43m)\u001b[49m\n",
      "File \u001b[0;32m~/.conda/envs/myprospector/lib/python3.9/site-packages/dynesty/utils.py:1000\u001b[0m, in \u001b[0;36mreweight_run\u001b[0;34m(res, logp_new, logp_old)\u001b[0m\n\u001b[1;32m    991\u001b[0m \u001b[38;5;66;03m# Overwrite items with our new estimates.\u001b[39;00m\n\u001b[1;32m    992\u001b[0m substitute \u001b[38;5;241m=\u001b[39m {\n\u001b[1;32m    993\u001b[0m     \u001b[38;5;124m'\u001b[39m\u001b[38;5;124mlogvol\u001b[39m\u001b[38;5;124m'\u001b[39m: logvol,\n\u001b[1;32m    994\u001b[0m     \u001b[38;5;124m'\u001b[39m\u001b[38;5;124mlogwt\u001b[39m\u001b[38;5;124m'\u001b[39m: saved_logwt,\n\u001b[0;32m   (...)\u001b[0m\n\u001b[1;32m    997\u001b[0m     \u001b[38;5;124m'\u001b[39m\u001b[38;5;124mh\u001b[39m\u001b[38;5;124m'\u001b[39m: saved_h\n\u001b[1;32m    998\u001b[0m }\n\u001b[0;32m-> 1000\u001b[0m new_res \u001b[38;5;241m=\u001b[39m \u001b[43mresults_substitute\u001b[49m\u001b[43m(\u001b[49m\u001b[43mres\u001b[49m\u001b[43m,\u001b[49m\u001b[43m \u001b[49m\u001b[43msubstitute\u001b[49m\u001b[43m)\u001b[49m\n\u001b[1;32m   1001\u001b[0m \u001b[38;5;28;01mreturn\u001b[39;00m new_res\n",
      "File \u001b[0;32m~/.conda/envs/myprospector/lib/python3.9/site-packages/dynesty/results.py:408\u001b[0m, in \u001b[0;36mresults_substitute\u001b[0;34m(results, kw_dict)\u001b[0m\n\u001b[1;32m    406\u001b[0m     \u001b[38;5;28;01melse\u001b[39;00m:\n\u001b[1;32m    407\u001b[0m         new_list\u001b[38;5;241m.\u001b[39mappend((k, kw_dict[k]))\n\u001b[0;32m--> 408\u001b[0m \u001b[38;5;28;01mreturn\u001b[39;00m \u001b[43mResults\u001b[49m\u001b[43m(\u001b[49m\u001b[43mnew_list\u001b[49m\u001b[43m)\u001b[49m\n",
      "File \u001b[0;32m~/.conda/envs/myprospector/lib/python3.9/site-packages/dynesty/results.py:309\u001b[0m, in \u001b[0;36mResults.__init__\u001b[0;34m(self, key_values)\u001b[0m\n\u001b[1;32m    307\u001b[0m \u001b[38;5;28;01mfor\u001b[39;00m k, v \u001b[38;5;129;01min\u001b[39;00m key_values_list:\n\u001b[1;32m    308\u001b[0m     \u001b[38;5;28;01massert\u001b[39;00m (k \u001b[38;5;129;01mnot\u001b[39;00m \u001b[38;5;129;01min\u001b[39;00m \u001b[38;5;28mself\u001b[39m\u001b[38;5;241m.\u001b[39m_keys)  \u001b[38;5;66;03m# ensure no duplicates\u001b[39;00m\n\u001b[0;32m--> 309\u001b[0m     \u001b[38;5;28;01massert\u001b[39;00m k \u001b[38;5;129;01min\u001b[39;00m Results\u001b[38;5;241m.\u001b[39m_ALLOWED, k\n\u001b[1;32m    310\u001b[0m     \u001b[38;5;28mself\u001b[39m\u001b[38;5;241m.\u001b[39m_keys\u001b[38;5;241m.\u001b[39mappend(k)\n\u001b[1;32m    311\u001b[0m     \u001b[38;5;28msetattr\u001b[39m(\u001b[38;5;28mself\u001b[39m, k, copy\u001b[38;5;241m.\u001b[39mcopy(v))\n",
      "\u001b[0;31mAssertionError\u001b[0m: blob"
     ]
    }
   ],
   "source": [
    "dres_rwt = dynesty.utils.reweight_run(dres, logp_new=logl2)"
   ]
  },
  {
   "cell_type": "code",
   "execution_count": null,
   "id": "a3f48b74-9663-444d-886e-476fae1f85f0",
   "metadata": {
    "tags": []
   },
   "outputs": [],
   "source": [
    "len(dres['samples'][0])"
   ]
  },
  {
   "cell_type": "code",
   "execution_count": null,
   "id": "d7e318a0-fbde-4e58-97ad-06d90a283a2d",
   "metadata": {
    "tags": []
   },
   "outputs": [],
   "source": [
    "res1['chain']"
   ]
  },
  {
   "cell_type": "markdown",
   "id": "e59a493e-b316-41cb-a28c-ec8d8ac8cd39",
   "metadata": {},
   "source": [
    "# Tutorial on importance re-weighting"
   ]
  },
  {
   "cell_type": "code",
   "execution_count": 10,
   "id": "e9e608cf-1ec0-447b-8414-cb6a66cceb65",
   "metadata": {
    "tags": []
   },
   "outputs": [],
   "source": [
    "# system functions that are always useful to have\n",
    "import time, sys, os\n",
    "\n",
    "# basic numeric setup\n",
    "import numpy as np\n",
    "from numpy import linalg\n",
    "\n",
    "# inline plotting\n",
    "%matplotlib inline\n",
    "\n",
    "# plotting\n",
    "import matplotlib\n",
    "from matplotlib import pyplot as plt\n",
    "\n",
    "# seed the random number generator\n",
    "rstate = np.random.default_rng(510)\n",
    "import dynesty"
   ]
  },
  {
   "cell_type": "code",
   "execution_count": 11,
   "id": "dc91efc6-0e22-4d79-b841-9c042da0da11",
   "metadata": {
    "tags": []
   },
   "outputs": [],
   "source": [
    "ndim = 3  # number of dimensions\n",
    "C = np.identity(ndim)  # set covariance to identity matrix\n",
    "C[C==0] = 0.95  # set off-diagonal terms (strongly correlated)\n",
    "Cinv = linalg.inv(C)  # precision matrix\n",
    "lnorm = -0.5 * (np.log(2 * np.pi) * ndim + np.log(linalg.det(C)))  # ln(normalization)\n",
    "\n",
    "# 3-D correlated multivariate normal log-likelihood\n",
    "def loglikelihood(x):\n",
    "    \"\"\"Multivariate normal log-likelihood.\"\"\"\n",
    "    return -0.5 * np.dot(x, np.dot(Cinv, x)) + lnorm"
   ]
  },
  {
   "cell_type": "code",
   "execution_count": 12,
   "id": "cc5cbe52-451d-4605-9f1a-34fd96fa9c58",
   "metadata": {
    "tags": []
   },
   "outputs": [],
   "source": [
    "# prior transform\n",
    "def prior_transform(u):\n",
    "    \"\"\"Transforms our unit cube samples `u` to a flat prior between -10. and 10. in each variable.\"\"\"\n",
    "    return 10. * (2. * u - 1.)"
   ]
  },
  {
   "cell_type": "code",
   "execution_count": 13,
   "id": "966f901e-2459-4f61-89af-2dc00db6cb85",
   "metadata": {
    "tags": []
   },
   "outputs": [
    {
     "name": "stderr",
     "output_type": "stream",
     "text": [
      "iter: 50001 | batch: 22 | bound: 2 | nc: 1 | ncall: 877799 | eff(%):  5.696 | loglstar:   -inf < -0.407 < -1.059 | logz: -8.965 +/-  0.044 | stop:    nan                                             "
     ]
    }
   ],
   "source": [
    "# initialize our nested sampler\n",
    "dsampler = dynesty.DynamicNestedSampler(loglikelihood, prior_transform, ndim=3,\n",
    "                                        bound='single', sample='unif', rstate=rstate)\n",
    "dsampler.run_nested(maxiter=500, use_stop=False)\n",
    "dres = dsampler.results"
   ]
  },
  {
   "cell_type": "code",
   "execution_count": 18,
   "id": "4ec696f2-2921-47ae-a95c-0cd161741548",
   "metadata": {
    "tags": []
   },
   "outputs": [],
   "source": [
    "import pickle"
   ]
  },
  {
   "cell_type": "code",
   "execution_count": 24,
   "id": "5ec0285b-14cd-4bf8-9761-b4163022121d",
   "metadata": {
    "tags": []
   },
   "outputs": [],
   "source": [
    "path = os.path.expandvars(\"$SCRATCH/data/monocle/test/deleteme_dynesty.dat\")\n",
    "with open(path, 'wb') as file:\n",
    "    pickle.dump(dres, file)"
   ]
  },
  {
   "cell_type": "code",
   "execution_count": 25,
   "id": "b92a966e-755a-4b23-9aca-bd481c92842c",
   "metadata": {
    "tags": []
   },
   "outputs": [],
   "source": [
    "with open(path, 'rb') as file:\n",
    "    results_pkl = pickle.load(file)"
   ]
  },
  {
   "cell_type": "code",
   "execution_count": 17,
   "id": "2e3ed3ca-39d7-4c80-9eb8-9510c68161bb",
   "metadata": {
    "tags": []
   },
   "outputs": [
    {
     "name": "stdout",
     "output_type": "stream",
     "text": [
      "Summary\n",
      "=======\n",
      "niter: 50001\n",
      "ncall: 877799\n",
      "eff(%):  5.696\n",
      "logz: -8.923 +/-  0.043\n"
     ]
    }
   ],
   "source": [
    "dres.summary()"
   ]
  },
  {
   "cell_type": "code",
   "execution_count": 16,
   "id": "c4cf96ce-fa9a-4b7f-b356-473a1d51804d",
   "metadata": {
    "tags": []
   },
   "outputs": [
    {
     "data": {
      "text/plain": [
       "['niter',\n",
       " 'ncall',\n",
       " 'eff',\n",
       " 'samples',\n",
       " 'samples_id',\n",
       " 'samples_batch',\n",
       " 'samples_it',\n",
       " 'samples_u',\n",
       " 'samples_n',\n",
       " 'logwt',\n",
       " 'logl',\n",
       " 'logvol',\n",
       " 'logz',\n",
       " 'batch_nlive',\n",
       " 'batch_bounds',\n",
       " 'logzerr',\n",
       " 'information',\n",
       " 'bound',\n",
       " 'bound_iter',\n",
       " 'samples_bound',\n",
       " 'scale']"
      ]
     },
     "execution_count": 16,
     "metadata": {},
     "output_type": "execute_result"
    }
   ],
   "source": [
    "dres.keys()"
   ]
  },
  {
   "cell_type": "markdown",
   "id": "47daf7ae-af71-4631-89bc-0d61403d84cc",
   "metadata": {},
   "source": [
    "# Older stuff:"
   ]
  },
  {
   "cell_type": "code",
   "execution_count": 1,
   "id": "aefbcac0-e20d-4484-9972-04981db937f3",
   "metadata": {
    "tags": []
   },
   "outputs": [
    {
     "name": "stderr",
     "output_type": "stream",
     "text": [
      "<frozen importlib._bootstrap>:228: RuntimeWarning: scipy._lib.messagestream.MessageStream size changed, may indicate binary incompatibility. Expected 56 from C header, got 64 from PyObject\n"
     ]
    }
   ],
   "source": [
    "import os\n",
    "os.environ[\"SPS_HOME\"] = '/global/homes/e/eramey16/fsps/'\n",
    "\n",
    "import fsps\n",
    "import dynesty\n",
    "import sedpy\n",
    "import h5py, astropy\n",
    "import numpy as np\n",
    "import pandas as pd\n",
    "from docker import classify"
   ]
  },
  {
   "cell_type": "code",
   "execution_count": 2,
   "id": "0dbcd4c9-9198-458a-8a9d-bcbb1589da46",
   "metadata": {
    "tags": []
   },
   "outputs": [],
   "source": [
    "ls_id = 9906619143751091 #IPTF16geu"
   ]
  },
  {
   "cell_type": "code",
   "execution_count": 3,
   "id": "78043d35-6cbd-4502-aa6c-1dcdce90a5f4",
   "metadata": {
    "tags": []
   },
   "outputs": [
    {
     "name": "stdout",
     "output_type": "stream",
     "text": [
      "usage: ipykernel_launcher.py [-h] [--verbose VERBOSE] [--debug]\n",
      "                             [--outfile OUTFILE] [--output_pickle]\n",
      "                             [--zcontinuous ZCONTINUOUS] [--optimize]\n",
      "                             [--min_method MIN_METHOD] [--min_opts MIN_OPTS]\n",
      "                             [--nmin NMIN] [--emcee] [--nwalkers NWALKERS]\n",
      "                             [--niter NITER] [--nburn [NBURN ...]]\n",
      "                             [--save_interval INTERVAL]\n",
      "                             [--restart_from RESTART_FROM]\n",
      "                             [--ensemble_dispersion INITIAL_DISP] [--dynesty]\n",
      "                             [--nested_bound {single,multi,balls,cubes}]\n",
      "                             [--nested_sample {unif,rwalk,slice}]\n",
      "                             [--nested_walks NESTED_WALKS]\n",
      "                             [--nlive_init NESTED_NLIVE_INIT]\n",
      "                             [--nlive_batch NESTED_NLIVE_BATCH]\n",
      "                             [--nested_dlogz_init NESTED_DLOGZ_INIT]\n",
      "                             [--nested_maxcall NESTED_MAXCALL]\n",
      "                             [--nested_maxiter NESTED_MAXITER]\n",
      "                             [--nested_maxbatch NESTED_MAXBATCH]\n",
      "                             [--nested_bootstrap NESTED_BOOTSTRAP]\n",
      "                             [--nested_posterior_thresh NESTED_POSTERIOR_THRESH]\n",
      "\n",
      "optional arguments:\n",
      "  -h, --help            show this help message and exit\n",
      "  --verbose VERBOSE     Whether to print lots of stuff (default: 1)\n",
      "  --debug               If set, halt execution just before optimization and\n",
      "                        sampling, but after the obs, model, and sps objects\n",
      "                        have been built. (default: False)\n",
      "  --outfile OUTFILE     Root name (including path) of the output file(s).\n",
      "                        (default: prospector_test_run)\n",
      "  --output_pickle       If set, output pickles in addition to HDF5. (default:\n",
      "                        False)\n",
      "  --zcontinuous ZCONTINUOUS\n",
      "                        The type of metallicity parameterization to use. See\n",
      "                        python-FSPS documentation for details. (default: 1)\n",
      "  --optimize            If set, do an optimization before sampling. (default:\n",
      "                        False)\n",
      "  --min_method MIN_METHOD\n",
      "                        The scipy.optimize method to use for minimization.One\n",
      "                        of 'lm' (Levenberg-Marquardt) or 'powell' (powell\n",
      "                        line-search.) (default: lm)\n",
      "  --min_opts MIN_OPTS   Minimization parameters. See scipy.optimize. (default:\n",
      "                        {})\n",
      "  --nmin NMIN           Number of draws from the prior from which to start\n",
      "                        minimization.nmin > 1 can be useful to avoid local\n",
      "                        minima (default: 1)\n",
      "  --emcee               If set, do ensemble MCMC sampling with emcee.\n",
      "                        (default: False)\n",
      "  --nwalkers NWALKERS   Number of `emcee` walkers. (default: 64)\n",
      "  --niter NITER         Number of iterations in the `emcee` production run\n",
      "                        (default: 512)\n",
      "  --nburn [NBURN ...]   Specify the rounds of burn-in for `emcee` by giving\n",
      "                        the number of iterations in each round as a list.\n",
      "                        After each round the walkers are reinitialized based\n",
      "                        on the locations of the best half of the walkers.\n",
      "                        (default: [16, 32, 64])\n",
      "  --save_interval INTERVAL\n",
      "                        Number between 0 and 1 giving the fraction of the\n",
      "                        `emcee` production run at which to write the current\n",
      "                        chains to disk. Useful in case an expensive `emcee`\n",
      "                        run dies. (default: 0.2)\n",
      "  --restart_from RESTART_FROM\n",
      "                        If given, the name of a file that contains a previous\n",
      "                        `emcee` run from which to try and restart emcee\n",
      "                        sampling.In this case niter gives the number of\n",
      "                        additional iterations to run for; all other options\n",
      "                        are ignored (they are taken from the previous run.)\n",
      "                        (default: )\n",
      "  --ensemble_dispersion INITIAL_DISP\n",
      "                        Initial dispersion in parameter value for the `emcee`\n",
      "                        walkers. This can be overriden for individual\n",
      "                        parameters by adding an 'init_disp' key to the\n",
      "                        parameter specification dictionary for that parameter.\n",
      "                        (default: 0.1)\n",
      "  --dynesty             If set, do nested sampling with dynesty. (default:\n",
      "                        False)\n",
      "  --nested_bound {single,multi,balls,cubes}\n",
      "                        Method for bounding the prior volume when drawing new\n",
      "                        points. One of single | multi | balls | cubes\n",
      "                        (default: multi)\n",
      "  --nested_sample {unif,rwalk,slice}, --nested_method {unif,rwalk,slice}\n",
      "                        Method for drawing new points during sampling. One of\n",
      "                        unif | rwalk | slice (default: slice)\n",
      "  --nested_walks NESTED_WALKS\n",
      "                        Number of Metropolis steps to take when\n",
      "                        `nested_sample` is 'rwalk' (default: 48)\n",
      "  --nlive_init NESTED_NLIVE_INIT\n",
      "                        Number of live points for the intial nested sampling\n",
      "                        run. (default: 100)\n",
      "  --nlive_batch NESTED_NLIVE_BATCH\n",
      "                        Number of live points for the dynamic nested sampling\n",
      "                        batches (default: 100)\n",
      "  --nested_dlogz_init NESTED_DLOGZ_INIT\n",
      "                        Stop the initial run when the remaining evidence is\n",
      "                        estimated to be less than this. (default: 0.05)\n",
      "  --nested_maxcall NESTED_MAXCALL\n",
      "                        Maximum number of likelihood calls during nested\n",
      "                        sampling. This will only be enforced after the initial\n",
      "                        pass (default: 50000000)\n",
      "  --nested_maxiter NESTED_MAXITER\n",
      "                        Maximum number of iterations during nested sampling.\n",
      "                        This will only be enforced after the initial pass\n",
      "                        (default: 1000000)\n",
      "  --nested_maxbatch NESTED_MAXBATCH\n",
      "                        Maximum number of dynamic batches. (default: 10)\n",
      "  --nested_bootstrap NESTED_BOOTSTRAP\n",
      "                        Number of bootstrap resamplings to use when estimating\n",
      "                        ellipsoid expansion factor. (default: 0)\n",
      "  --nested_posterior_thresh NESTED_POSTERIOR_THRESH\n",
      "                        Stop when the fractional scatter in the K-L divergence\n",
      "                        of the posterior estimates reaches this value\n",
      "                        (default: 0.05)\n"
     ]
    }
   ],
   "source": [
    "from prospect import prospect_args\n",
    "parser = prospect_args.get_parser()\n",
    "parser.print_help()"
   ]
  },
  {
   "cell_type": "code",
   "execution_count": 4,
   "id": "ae673b92-1713-4cf5-9c1a-7f6c4e1f6c50",
   "metadata": {},
   "outputs": [
    {
     "data": {
      "text/plain": [
       "ls_id            9906619143751091\n",
       "ra                     316.066216\n",
       "dec                     -6.340221\n",
       "type                          REX\n",
       "dered_mag_g             20.250755\n",
       "dered_mag_r              18.86748\n",
       "dered_mag_z             17.944523\n",
       "dered_mag_w1             17.25038\n",
       "dered_mag_w2            17.611616\n",
       "dered_flux_g             7.937765\n",
       "dered_flux_r             28.37973\n",
       "dered_flux_z             66.40348\n",
       "dered_flux_w1           125.84846\n",
       "dered_flux_w2            90.23046\n",
       "snr_g                   128.86171\n",
       "snr_r                   213.08531\n",
       "snr_z                   480.05804\n",
       "snr_w1                  143.01906\n",
       "snr_w2                   59.99879\n",
       "flux_ivar_g              430.3113\n",
       "flux_ivar_r              78.43762\n",
       "flux_ivar_z             62.868927\n",
       "flux_ivar_w1             1.328257\n",
       "flux_ivar_w2             0.449847\n",
       "dchisq_1                236241.66\n",
       "dchisq_2                263783.94\n",
       "dchisq_3                266028.38\n",
       "dchisq_4                264630.44\n",
       "dchisq_5                      0.0\n",
       "rchisq_g                  1.63216\n",
       "rchisq_r                 2.068183\n",
       "rchisq_z                 4.242084\n",
       "rchisq_w1               16.638714\n",
       "rchisq_w2                1.547884\n",
       "sersic                        1.0\n",
       "sersic_ivar                   0.0\n",
       "psfsize_g                1.783314\n",
       "psfsize_r                1.448459\n",
       "psfsize_z                1.324974\n",
       "shape_r                  0.500931\n",
       "shape_e1                      0.0\n",
       "shape_e2                      0.0\n",
       "shape_r_ivar            310472.66\n",
       "shape_e1_ivar                 0.0\n",
       "shape_e2_ivar                 0.0\n",
       "z_phot_median            0.263183\n",
       "z_phot_std               0.111112\n",
       "z_spec                      -99.0\n",
       "Name: 0, dtype: object"
      ]
     },
     "execution_count": 4,
     "metadata": {},
     "output_type": "execute_result"
    }
   ],
   "source": [
    "# Try it with a more standard fit\n",
    "from sedpy.observate import load_filters\n",
    "from prospect.utils.obsutils import fix_obs\n",
    "\n",
    "bkdata, tbldata = classify.get_galaxy(ls_id=ls_id)\n",
    "gal_data = tbldata.iloc[0]\n",
    "gal_data"
   ]
  },
  {
   "cell_type": "code",
   "execution_count": 5,
   "id": "e4f29b3f-fe4a-4a43-9694-436b2742747c",
   "metadata": {
    "tags": []
   },
   "outputs": [],
   "source": [
    "# Get galaxy data\n",
    "bands = ['g', 'r', 'z', 'w1', 'w2']\n",
    "sdss = ['sdss_{}0'.format(b) for b in ['g','r','z']]\n",
    "wise = ['wise_w1', 'wise_w2']\n",
    "filternames = sdss + wise\n",
    "\n",
    "filters = load_filters(filternames)\n",
    "maggies = np.array([10**(-.4*gal_data[f'dered_mag_{b}']) for b in bands])\n",
    "magerr = [ 2.5 / (np.log(10) * gal_data['dered_flux_'+b] * \n",
    "                        np.sqrt(gal_data['flux_ivar_'+b])) for b in bands]\n",
    "magerr = np.clip(magerr, 0.05, np.inf)"
   ]
  },
  {
   "cell_type": "code",
   "execution_count": 6,
   "id": "fa63781b-be9b-4122-b014-a2b641de3ac4",
   "metadata": {
    "tags": []
   },
   "outputs": [],
   "source": [
    "# Build obs\n",
    "obs = dict(wavelength=None, spectrum=None, unc=None, redshift=gal_data['z_phot_median'],\n",
    "           maggies=maggies, maggies_unc=magerr * maggies / 1.086, filters=filters)\n",
    "obs = fix_obs(obs)"
   ]
  },
  {
   "cell_type": "code",
   "execution_count": 7,
   "id": "9c0aaa20-d413-4997-a3f5-22d1b5234d6b",
   "metadata": {
    "tags": []
   },
   "outputs": [
    {
     "name": "stdout",
     "output_type": "stream",
     "text": [
      ":::::::\n",
      "<class 'prospect.models.sedmodel.PolySpecModel'>\n",
      "\n",
      "Free Parameters: (name: prior) \n",
      "-----------\n",
      "  logzsol: <class 'prospect.models.priors.TopHat'>(mini=-2,maxi=0.19)\n",
      "  dust2: <class 'prospect.models.priors.TopHat'>(mini=0.0,maxi=2.0)\n",
      "  logmass: <class 'prospect.models.priors.TopHat'>(mini=7,maxi=12)\n",
      "  logsfr_ratios: <class 'prospect.models.priors.StudentT'>(mean=[0. 0.],scale=[0.3 0.3],df=[2 2])\n",
      "\n",
      "Fixed Parameters: (name: value [, depends_on]) \n",
      "-----------\n",
      "  zred: [0.263183] \n",
      "  mass: [1000000.] <function logsfr_ratios_to_masses at 0x7f57687b7f70>\n",
      "  sfh: [3] \n",
      "  imf_type: [2] \n",
      "  dust_type: [0] \n",
      "  agebins: [[ 0.  8.]\n",
      " [ 8.  9.]\n",
      " [ 9. 10.]] \n",
      "  add_neb_emission: [ True] \n",
      "  add_neb_continuum: [ True] \n",
      "  nebemlineinspec: [ True] \n",
      "  gas_logz: [0.] <function stellar_logzsol at 0x7f5768d96310>\n",
      "  gas_logu: [-2.] \n"
     ]
    }
   ],
   "source": [
    "# Build model\n",
    "from prospect.models.templates import TemplateLibrary\n",
    "from prospect.models import PolySpecModel\n",
    "model_params = TemplateLibrary[\"continuity_sfh\"]\n",
    "model_params.update(TemplateLibrary[\"nebular\"])\n",
    "model_params[\"zred\"][\"init\"] = obs[\"redshift\"]\n",
    "\n",
    "model = PolySpecModel(model_params)\n",
    "noise_model = (None, None)\n",
    "\n",
    "print(model)"
   ]
  },
  {
   "cell_type": "code",
   "execution_count": 8,
   "id": "ed4d5fb5-4c14-4800-8db8-e3e03a97d390",
   "metadata": {
    "tags": []
   },
   "outputs": [
    {
     "name": "stdout",
     "output_type": "stream",
     "text": [
      "(b'mist', b'miles', b'DL07')\n"
     ]
    }
   ],
   "source": [
    "from prospect.sources import CSPSpecBasis\n",
    "sps = CSPSpecBasis(zcontinuous=1)\n",
    "print(sps.ssp.libraries)"
   ]
  },
  {
   "cell_type": "code",
   "execution_count": null,
   "id": "2c10e54b-393d-4542-a017-5663f31b964f",
   "metadata": {
    "tags": []
   },
   "outputs": [],
   "source": [
    "from prospect.fitting import lnprobfn, fit_model\n",
    "fitting_kwargs = dict(nlive_init=400, nested_method=\"rwalk\", nested_target_n_effective=1000, nested_dlogz_init=0.05)\n",
    "output = fit_model(obs, model, sps, optimize=True, dynesty=True, lnprobfn=lnprobfn, noise=noise_model, **fitting_kwargs)\n",
    "result, duration = output[\"sampling\"]"
   ]
  },
  {
   "cell_type": "code",
   "execution_count": null,
   "id": "937b02e0-296b-4004-8896-f3ecacadbcb9",
   "metadata": {},
   "outputs": [],
   "source": [
    "from prospect.io import write_results as writer\n",
    "hfile = \"./quickstart_dynesty_mcmc.h5\"\n",
    "writer.write_hdf5(hfile, {}, model, obs,\n",
    "                 output[\"sampling\"][0], None,\n",
    "                 sps=sps,\n",
    "                 tsample=output[\"sampling\"][1],\n",
    "                 toptimize=0.0)"
   ]
  }
 ],
 "metadata": {
  "kernelspec": {
   "display_name": "MyProspector",
   "language": "python",
   "name": "myprospector"
  },
  "language_info": {
   "codemirror_mode": {
    "name": "ipython",
    "version": 3
   },
   "file_extension": ".py",
   "mimetype": "text/x-python",
   "name": "python",
   "nbconvert_exporter": "python",
   "pygments_lexer": "ipython3",
   "version": "3.9.18"
  }
 },
 "nbformat": 4,
 "nbformat_minor": 5
}

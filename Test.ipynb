{
 "cells": [
  {
   "cell_type": "code",
   "execution_count": null,
   "id": "6abf8109-8183-4757-af6d-b846dd524971",
   "metadata": {},
   "outputs": [],
   "source": [
    "from astropy.io import fits"
   ]
  },
  {
   "cell_type": "code",
   "execution_count": null,
   "id": "39dba28f-9ef5-47e0-a0e8-b1c87d635c61",
   "metadata": {},
   "outputs": [],
   "source": [
    "import numpy as np\n",
    "import pandas as pd"
   ]
  },
  {
   "cell_type": "code",
   "execution_count": null,
   "id": "64482cbc-d8e0-43e8-8dbe-4e692f6263a2",
   "metadata": {},
   "outputs": [],
   "source": [
    "import matplotlib.pyplot as plt"
   ]
  },
  {
   "cell_type": "markdown",
   "id": "6633673b-05d6-4084-b37c-5673908992bc",
   "metadata": {
    "jp-MarkdownHeadingCollapsed": true,
    "tags": []
   },
   "source": [
    "# Going through the tutorial here: https://prospect.readthedocs.io/en/latest/quickstart.html"
   ]
  },
  {
   "cell_type": "code",
   "execution_count": null,
   "id": "8d654e30-34ed-49ad-b7d6-2f28dd8765b4",
   "metadata": {},
   "outputs": [],
   "source": [
    "import fsps\n",
    "import dynesty\n",
    "import sedpy\n",
    "import h5py, astropy\n",
    "import numpy as np"
   ]
  },
  {
   "cell_type": "code",
   "execution_count": null,
   "id": "87d57782-17bc-4af5-a2da-f693f6360cc5",
   "metadata": {},
   "outputs": [],
   "source": [
    "from astroquery.sdss import SDSS\n",
    "from astropy.coordinates import SkyCoord\n",
    "bands = \"ugriz\"\n",
    "mcol = [f\"cModelMag_{b}\" for b in bands]\n",
    "ecol = [f\"cModelMagErr_{b}\" for b in bands]\n",
    "cat = SDSS.query_crossid(SkyCoord(ra=204.46376, dec=35.79883, unit=\"deg\"), \n",
    "                         data_release=16, photoobj_fields=mcol + ecol + [\"specObjID\"])\n",
    "shdus = SDSS.get_spectra(plate=2101, mjd=53858, fiberID=220)[0]\n",
    "assert int(shdus[2].data[\"SpecObjID\"][0]) == cat[0][\"specObjID\"]"
   ]
  },
  {
   "cell_type": "code",
   "execution_count": null,
   "id": "79156aed-272f-4927-abb7-3f52545a6cb3",
   "metadata": {},
   "outputs": [],
   "source": [
    "from sedpy.observate import load_filters\n",
    "from prospect.utils.obsutils import fix_obs\n",
    "\n",
    "filters = load_filters([f\"sdss_{b}0\" for b in bands])\n",
    "maggies = np.array([10**(-0.4 * cat[0][f\"cModelMag_{b}\"]) for b in bands])\n",
    "magerr = np.array([cat[0][f\"cModelMagErr_{b}\"] for b in bands])\n",
    "magerr = np.clip(magerr, 0.05, np.inf)\n",
    "\n",
    "obs = dict(wavelength=None, spectrum=None, unc=None, redshift=shdus[2].data[0][\"z\"],\n",
    "           maggies=maggies, maggies_unc=magerr * maggies / 1.086, filters=filters)\n",
    "obs = fix_obs(obs)"
   ]
  },
  {
   "cell_type": "code",
   "execution_count": null,
   "id": "05f72d0f-2c12-4792-909a-b9968f811c40",
   "metadata": {
    "tags": []
   },
   "outputs": [],
   "source": [
    "from prospect.models.templates import TemplateLibrary\n",
    "from prospect.models import SpecModel\n",
    "model_params = TemplateLibrary[\"parametric_sfh\"]\n",
    "model_params.update(TemplateLibrary[\"nebular\"])\n",
    "model_params[\"zred\"][\"init\"] = obs[\"redshift\"]\n",
    "\n",
    "model = SpecModel(model_params)\n",
    "assert len(model.free_params) == 5\n",
    "print(model)"
   ]
  },
  {
   "cell_type": "code",
   "execution_count": null,
   "id": "6f03417c-0507-4a31-91c1-79749ae6bc76",
   "metadata": {},
   "outputs": [],
   "source": [
    "noise_model = (None, None)"
   ]
  },
  {
   "cell_type": "code",
   "execution_count": null,
   "id": "8242aa73-b035-48f7-ba72-ded4296695e0",
   "metadata": {},
   "outputs": [],
   "source": [
    "from prospect.sources import CSPSpecBasis\n",
    "sps = CSPSpecBasis(zcontinuous=1)\n",
    "print(sps.ssp.libraries)"
   ]
  },
  {
   "cell_type": "code",
   "execution_count": null,
   "id": "f59a8933-457b-446f-b699-6419806033c5",
   "metadata": {},
   "outputs": [],
   "source": [
    "current_parameters = \",\".join([f\"{p}={v}\" for p, v in zip(model.free_params, model.theta)])\n",
    "print(current_parameters)\n",
    "spec, phot, mfrac = model.predict(model.theta, obs=obs, sps=sps)\n",
    "print(phot / obs[\"maggies\"])"
   ]
  },
  {
   "cell_type": "code",
   "execution_count": null,
   "id": "334e76fc-16dd-464b-aba1-609abd1e5e2d",
   "metadata": {},
   "outputs": [],
   "source": [
    "from prospect.fitting import lnprobfn, fit_model\n",
    "fitting_kwargs = dict(nlive_init=400, nested_method=\"rwalk\", nested_posterior_thresh=0.05)\n",
    "output = fit_model(obs, model, sps, optimize=False, dynesty=True, lnprobfn=lnprobfn, noise=noise_model, **fitting_kwargs)\n",
    "result, duration = output[\"sampling\"]"
   ]
  },
  {
   "cell_type": "code",
   "execution_count": null,
   "id": "1b6f56e9-61f6-438a-8f72-b2af3c3469f8",
   "metadata": {},
   "outputs": [],
   "source": [
    "from prospect.io import write_results as writer\n",
    "hfile = \"quickstart_dynesty_mcmc.h5\"\n",
    "writer.write_hdf5(hfile, {}, model, obs,\n",
    "                 output[\"sampling\"][0], None,\n",
    "                 sps=sps,\n",
    "                 tsample=output[\"sampling\"][1],\n",
    "                 toptimize=0.0)\n"
   ]
  },
  {
   "cell_type": "markdown",
   "id": "9b801f56-4840-4cc6-9002-d562283731b2",
   "metadata": {
    "tags": []
   },
   "source": [
    "# Using Taskfarmer"
   ]
  },
  {
   "cell_type": "code",
   "execution_count": 1,
   "id": "2e5315a2-151e-41a1-9f90-53da13c58a63",
   "metadata": {},
   "outputs": [],
   "source": [
    "import pandas as pd\n",
    "import csv"
   ]
  },
  {
   "cell_type": "code",
   "execution_count": 7,
   "id": "a4c7976f-2551-4f3d-944f-e76decb9c76e",
   "metadata": {},
   "outputs": [],
   "source": [
    "galaxies = pd.read_csv(\"../data/first_query.txt\", nrows=1000)"
   ]
  },
  {
   "cell_type": "code",
   "execution_count": 8,
   "id": "71af9b85-ca09-47e1-9313-5fe1f261bedf",
   "metadata": {},
   "outputs": [],
   "source": [
    "shft_cmd = \"shifter --image=audreykoz/gradient:latest\" \\\n",
    "\" --volume='/global/cscratch1/sd/eramey16/data/testrun:/gradient_boosted/exports'\" \\\n",
    "\" /opt/conda/bin/python /gradient_boosted/classify.py -r {} -d {}\""
   ]
  },
  {
   "cell_type": "code",
   "execution_count": 9,
   "id": "94647e25-387c-4b9e-9e87-8642158f43cc",
   "metadata": {},
   "outputs": [],
   "source": [
    "galaxies['run'] = [shft_cmd.format(a,b) for a,b in zip(galaxies.ra, galaxies.dec)]"
   ]
  },
  {
   "cell_type": "code",
   "execution_count": 10,
   "id": "091b50b2-0772-4b79-928d-ac66d5099fe8",
   "metadata": {},
   "outputs": [
    {
     "data": {
      "text/html": [
       "<div>\n",
       "<style scoped>\n",
       "    .dataframe tbody tr th:only-of-type {\n",
       "        vertical-align: middle;\n",
       "    }\n",
       "\n",
       "    .dataframe tbody tr th {\n",
       "        vertical-align: top;\n",
       "    }\n",
       "\n",
       "    .dataframe thead th {\n",
       "        text-align: right;\n",
       "    }\n",
       "</style>\n",
       "<table border=\"1\" class=\"dataframe\">\n",
       "  <thead>\n",
       "    <tr style=\"text-align: right;\">\n",
       "      <th></th>\n",
       "      <th>ls_id</th>\n",
       "      <th>ra</th>\n",
       "      <th>dec</th>\n",
       "      <th>run</th>\n",
       "    </tr>\n",
       "  </thead>\n",
       "  <tbody>\n",
       "    <tr>\n",
       "      <th>0</th>\n",
       "      <td>8796115184194014</td>\n",
       "      <td>149.285304</td>\n",
       "      <td>1.345116</td>\n",
       "      <td>shifter --image=audreykoz/gradient:latest --vo...</td>\n",
       "    </tr>\n",
       "    <tr>\n",
       "      <th>1</th>\n",
       "      <td>8796115184193402</td>\n",
       "      <td>149.273901</td>\n",
       "      <td>1.313647</td>\n",
       "      <td>shifter --image=audreykoz/gradient:latest --vo...</td>\n",
       "    </tr>\n",
       "    <tr>\n",
       "      <th>2</th>\n",
       "      <td>8796115184193181</td>\n",
       "      <td>149.291823</td>\n",
       "      <td>1.303267</td>\n",
       "      <td>shifter --image=audreykoz/gradient:latest --vo...</td>\n",
       "    </tr>\n",
       "    <tr>\n",
       "      <th>3</th>\n",
       "      <td>8796115278499067</td>\n",
       "      <td>149.127949</td>\n",
       "      <td>1.530269</td>\n",
       "      <td>shifter --image=audreykoz/gradient:latest --vo...</td>\n",
       "    </tr>\n",
       "    <tr>\n",
       "      <th>4</th>\n",
       "      <td>8796115278498990</td>\n",
       "      <td>149.121014</td>\n",
       "      <td>1.526591</td>\n",
       "      <td>shifter --image=audreykoz/gradient:latest --vo...</td>\n",
       "    </tr>\n",
       "    <tr>\n",
       "      <th>...</th>\n",
       "      <td>...</td>\n",
       "      <td>...</td>\n",
       "      <td>...</td>\n",
       "      <td>...</td>\n",
       "    </tr>\n",
       "    <tr>\n",
       "      <th>995</th>\n",
       "      <td>8796115278693161</td>\n",
       "      <td>149.765329</td>\n",
       "      <td>1.415705</td>\n",
       "      <td>shifter --image=audreykoz/gradient:latest --vo...</td>\n",
       "    </tr>\n",
       "    <tr>\n",
       "      <th>996</th>\n",
       "      <td>8796115278693010</td>\n",
       "      <td>149.784284</td>\n",
       "      <td>1.406019</td>\n",
       "      <td>shifter --image=audreykoz/gradient:latest --vo...</td>\n",
       "    </tr>\n",
       "    <tr>\n",
       "      <th>997</th>\n",
       "      <td>8796115278693406</td>\n",
       "      <td>149.765189</td>\n",
       "      <td>1.427825</td>\n",
       "      <td>shifter --image=audreykoz/gradient:latest --vo...</td>\n",
       "    </tr>\n",
       "    <tr>\n",
       "      <th>998</th>\n",
       "      <td>8796115278693488</td>\n",
       "      <td>149.783395</td>\n",
       "      <td>1.435049</td>\n",
       "      <td>shifter --image=audreykoz/gradient:latest --vo...</td>\n",
       "    </tr>\n",
       "    <tr>\n",
       "      <th>999</th>\n",
       "      <td>8796115278693061</td>\n",
       "      <td>149.792679</td>\n",
       "      <td>1.409333</td>\n",
       "      <td>shifter --image=audreykoz/gradient:latest --vo...</td>\n",
       "    </tr>\n",
       "  </tbody>\n",
       "</table>\n",
       "<p>1000 rows × 4 columns</p>\n",
       "</div>"
      ],
      "text/plain": [
       "                ls_id          ra       dec  \\\n",
       "0    8796115184194014  149.285304  1.345116   \n",
       "1    8796115184193402  149.273901  1.313647   \n",
       "2    8796115184193181  149.291823  1.303267   \n",
       "3    8796115278499067  149.127949  1.530269   \n",
       "4    8796115278498990  149.121014  1.526591   \n",
       "..                ...         ...       ...   \n",
       "995  8796115278693161  149.765329  1.415705   \n",
       "996  8796115278693010  149.784284  1.406019   \n",
       "997  8796115278693406  149.765189  1.427825   \n",
       "998  8796115278693488  149.783395  1.435049   \n",
       "999  8796115278693061  149.792679  1.409333   \n",
       "\n",
       "                                                   run  \n",
       "0    shifter --image=audreykoz/gradient:latest --vo...  \n",
       "1    shifter --image=audreykoz/gradient:latest --vo...  \n",
       "2    shifter --image=audreykoz/gradient:latest --vo...  \n",
       "3    shifter --image=audreykoz/gradient:latest --vo...  \n",
       "4    shifter --image=audreykoz/gradient:latest --vo...  \n",
       "..                                                 ...  \n",
       "995  shifter --image=audreykoz/gradient:latest --vo...  \n",
       "996  shifter --image=audreykoz/gradient:latest --vo...  \n",
       "997  shifter --image=audreykoz/gradient:latest --vo...  \n",
       "998  shifter --image=audreykoz/gradient:latest --vo...  \n",
       "999  shifter --image=audreykoz/gradient:latest --vo...  \n",
       "\n",
       "[1000 rows x 4 columns]"
      ]
     },
     "execution_count": 10,
     "metadata": {},
     "output_type": "execute_result"
    }
   ],
   "source": [
    "galaxies"
   ]
  },
  {
   "cell_type": "code",
   "execution_count": 11,
   "id": "0b773c3c-8367-4f49-ba93-9150bdb10dde",
   "metadata": {},
   "outputs": [],
   "source": [
    "galaxies['run'].to_csv('../data/tasks.txt', sep='\\t', header=False, index=False, quoting=3)"
   ]
  },
  {
   "cell_type": "code",
   "execution_count": 38,
   "id": "c8901dbf-abb8-4a70-97bf-7a1238a039ff",
   "metadata": {},
   "outputs": [],
   "source": [
    "galaxies = pd.read_csv(\"../data/masterlens.tsv\", skiprows=1, sep='\\t')"
   ]
  },
  {
   "cell_type": "code",
   "execution_count": 41,
   "id": "34d9dbba-e1a8-48bf-b1df-bd87136bd4d5",
   "metadata": {},
   "outputs": [
    {
     "data": {
      "text/plain": [
       "Index(['# system_name', 'discovery_date', 'alternate_name', 'kind_acronym',\n",
       "       'discovery_acronym', 'reference_identifier', 'ra_hrs', 'ra_mins',\n",
       "       'ra_secs', 'ra_coord', 'dec_degrees', 'dec_arcmin', 'dec_arcsec',\n",
       "       'dec_coord', 'lensgrade', 'number_images', 'theta_e', 'theta_e_err',\n",
       "       'theta_e_quality', 'z_lens', 'z_lens_err', 'z_lens_quality', 'z_source',\n",
       "       'z_source_err', 'z_source_quality', 'vdisp', 'vdisp_err', 'filter_lens',\n",
       "       'filter_source', 'fluxes', 'mag_lens', 'mag_source', 'morphology',\n",
       "       'has_sdss', 'sdss_link', 'has_adsabs', 'adsabs_link', 'apod_link',\n",
       "       'vett_status', 'released_status', 'hidden_status', 'vetted', 'released',\n",
       "       'hidden', 'graphic_status', 'equinox', 'sdss_ObjID', 'sdss_specObjID',\n",
       "       'time_delay0', 'time_delay1', 'lens_name'],\n",
       "      dtype='object')"
      ]
     },
     "execution_count": 41,
     "metadata": {},
     "output_type": "execute_result"
    }
   ],
   "source": [
    "galaxies.columns = galaxies.columns.str.replace('\"', '')\n",
    "galaxies.columns = galaxies.columns.str.strip()\n",
    "# galaxies.apply(lambda s: s.str.replace('\"', \"\"))\n",
    "# galaxies.apply(lambda s: s.str.strip())\n",
    "galaxies.columns"
   ]
  },
  {
   "cell_type": "code",
   "execution_count": 48,
   "id": "764fbbe6-5620-415b-8c91-258e8489dd79",
   "metadata": {},
   "outputs": [],
   "source": [
    "radec = galaxies[['ra_coord', 'dec_coord']]\n",
    "radec.columns = ['ra', 'dec']\n",
    "radec.to_csv('coords_A.csv', index=False)"
   ]
  },
  {
   "cell_type": "code",
   "execution_count": 33,
   "id": "251f769e-f7bd-4544-abec-e052f04361bc",
   "metadata": {},
   "outputs": [
    {
     "data": {
      "text/plain": [
       "' \"2008-08-01\"'"
      ]
     },
     "execution_count": 33,
     "metadata": {},
     "output_type": "execute_result"
    }
   ],
   "source": [
    "galaxies.iloc[0]['discovery_date']"
   ]
  },
  {
   "cell_type": "code",
   "execution_count": 24,
   "id": "97c55f2d-369e-4f15-9047-ea65bb8742af",
   "metadata": {},
   "outputs": [],
   "source": [
    "galaxies = pd.read_csv('../data/lensed/ML_C/coords_C.csv')\n",
    "galaxies.columns = [x.lower() for x in galaxies.columns]"
   ]
  },
  {
   "cell_type": "code",
   "execution_count": 25,
   "id": "057b6e99-aeed-47bd-a6f9-fad7cbf687bc",
   "metadata": {},
   "outputs": [],
   "source": [
    "radec = galaxies[['ra', 'dec']]"
   ]
  },
  {
   "cell_type": "code",
   "execution_count": 26,
   "id": "2e96c8b5-cac2-49dd-8019-69aaa455eed5",
   "metadata": {},
   "outputs": [],
   "source": [
    "with open(\"../data/lensed/all_lensed/galaxies.csv\", 'a') as file:\n",
    "    radec.to_csv(file, index=False, header=False)"
   ]
  },
  {
   "cell_type": "markdown",
   "id": "27777e3e-8131-47cc-a2e7-9e3bf8c27e8b",
   "metadata": {
    "jp-MarkdownHeadingCollapsed": true,
    "tags": []
   },
   "source": [
    "# Aggregate outputs"
   ]
  },
  {
   "cell_type": "code",
   "execution_count": 1,
   "id": "b84e9f23-41a0-408e-a34a-f35a23f7f25d",
   "metadata": {},
   "outputs": [],
   "source": [
    "import glob\n",
    "import pandas as pd\n",
    "import numpy as np"
   ]
  },
  {
   "cell_type": "code",
   "execution_count": 2,
   "id": "61c1b49b-7a7e-4eda-ba4c-873e56a12973",
   "metadata": {},
   "outputs": [],
   "source": [
    "filenames = glob.glob('../data/testrun/[0-9]*.csv')"
   ]
  },
  {
   "cell_type": "code",
   "execution_count": 3,
   "id": "3dfacdb5-e2b0-4b3a-9a05-63cd66af2d9d",
   "metadata": {},
   "outputs": [],
   "source": [
    "data = []\n",
    "for file in filenames:\n",
    "    data.append(pd.read_csv(file))\n",
    "\n",
    "data = pd.concat(data, ignore_index = True)"
   ]
  },
  {
   "cell_type": "code",
   "execution_count": 4,
   "id": "e72a2018-5266-468b-a884-7019ecd5fe9f",
   "metadata": {},
   "outputs": [
    {
     "data": {
      "text/html": [
       "<div>\n",
       "<style scoped>\n",
       "    .dataframe tbody tr th:only-of-type {\n",
       "        vertical-align: middle;\n",
       "    }\n",
       "\n",
       "    .dataframe tbody tr th {\n",
       "        vertical-align: top;\n",
       "    }\n",
       "\n",
       "    .dataframe thead th {\n",
       "        text-align: right;\n",
       "    }\n",
       "</style>\n",
       "<table border=\"1\" class=\"dataframe\">\n",
       "  <thead>\n",
       "    <tr style=\"text-align: right;\">\n",
       "      <th></th>\n",
       "      <th>ls_id</th>\n",
       "      <th>lensed</th>\n",
       "    </tr>\n",
       "  </thead>\n",
       "  <tbody>\n",
       "    <tr>\n",
       "      <th>0</th>\n",
       "      <td>8796115184321665</td>\n",
       "      <td>1</td>\n",
       "    </tr>\n",
       "    <tr>\n",
       "      <th>1</th>\n",
       "      <td>8796115089953404</td>\n",
       "      <td>0</td>\n",
       "    </tr>\n",
       "    <tr>\n",
       "      <th>2</th>\n",
       "      <td>8796115089888045</td>\n",
       "      <td>1</td>\n",
       "    </tr>\n",
       "    <tr>\n",
       "      <th>3</th>\n",
       "      <td>8796115089887865</td>\n",
       "      <td>0</td>\n",
       "    </tr>\n",
       "    <tr>\n",
       "      <th>4</th>\n",
       "      <td>8796115278562997</td>\n",
       "      <td>0</td>\n",
       "    </tr>\n",
       "    <tr>\n",
       "      <th>...</th>\n",
       "      <td>...</td>\n",
       "      <td>...</td>\n",
       "    </tr>\n",
       "    <tr>\n",
       "      <th>968</th>\n",
       "      <td>8796115184323951</td>\n",
       "      <td>0</td>\n",
       "    </tr>\n",
       "    <tr>\n",
       "      <th>969</th>\n",
       "      <td>8796115184324356</td>\n",
       "      <td>1</td>\n",
       "    </tr>\n",
       "    <tr>\n",
       "      <th>970</th>\n",
       "      <td>8796115278564472</td>\n",
       "      <td>0</td>\n",
       "    </tr>\n",
       "    <tr>\n",
       "      <th>971</th>\n",
       "      <td>8796115089888210</td>\n",
       "      <td>0</td>\n",
       "    </tr>\n",
       "    <tr>\n",
       "      <th>972</th>\n",
       "      <td>8796115089952319</td>\n",
       "      <td>0</td>\n",
       "    </tr>\n",
       "  </tbody>\n",
       "</table>\n",
       "<p>973 rows × 2 columns</p>\n",
       "</div>"
      ],
      "text/plain": [
       "                ls_id  lensed\n",
       "0    8796115184321665       1\n",
       "1    8796115089953404       0\n",
       "2    8796115089888045       1\n",
       "3    8796115089887865       0\n",
       "4    8796115278562997       0\n",
       "..                ...     ...\n",
       "968  8796115184323951       0\n",
       "969  8796115184324356       1\n",
       "970  8796115278564472       0\n",
       "971  8796115089888210       0\n",
       "972  8796115089952319       0\n",
       "\n",
       "[973 rows x 2 columns]"
      ]
     },
     "execution_count": 4,
     "metadata": {},
     "output_type": "execute_result"
    }
   ],
   "source": [
    "data"
   ]
  },
  {
   "cell_type": "code",
   "execution_count": 5,
   "id": "0315f9e7-b6cd-4f0e-bd31-acd4aa34a3ea",
   "metadata": {},
   "outputs": [
    {
     "data": {
      "text/plain": [
       "568"
      ]
     },
     "execution_count": 5,
     "metadata": {},
     "output_type": "execute_result"
    }
   ],
   "source": [
    "np.sum(data['lensed'])"
   ]
  },
  {
   "cell_type": "code",
   "execution_count": 6,
   "id": "1ad4ab0e-49b4-4f19-8349-63b280199355",
   "metadata": {},
   "outputs": [],
   "source": [
    "data.to_csv('../data/testrun/total_lensed.csv', index=False)"
   ]
  },
  {
   "cell_type": "code",
   "execution_count": 1,
   "id": "77d26dc5-0f22-45b2-a901-d2e56a1fdbe1",
   "metadata": {},
   "outputs": [],
   "source": [
    "from util import collect_lensed, collect_gals"
   ]
  },
  {
   "cell_type": "code",
   "execution_count": 2,
   "id": "2770884b-d313-4d1e-8d0e-de9bf9b6a08d",
   "metadata": {},
   "outputs": [
    {
     "name": "stdout",
     "output_type": "stream",
     "text": [
      "Total lensed: 568 / 973\n"
     ]
    }
   ],
   "source": [
    "data = collect_lensed('../data/testrun')"
   ]
  },
  {
   "cell_type": "code",
   "execution_count": 4,
   "id": "5fa6da23-6588-4931-9ce7-213fa363e5c5",
   "metadata": {},
   "outputs": [
    {
     "name": "stdout",
     "output_type": "stream",
     "text": [
      "Total lensed: 78 / 199\n"
     ]
    }
   ],
   "source": [
    "data = collect_lensed('../data/lensed/ML_A')"
   ]
  },
  {
   "cell_type": "code",
   "execution_count": 5,
   "id": "25b6e528-492c-4322-9252-f58f903cd77a",
   "metadata": {},
   "outputs": [
    {
     "name": "stdout",
     "output_type": "stream",
     "text": [
      "Total lensed: 26 / 56\n"
     ]
    }
   ],
   "source": [
    "data = collect_lensed('../data/lensed/ML_B')"
   ]
  },
  {
   "cell_type": "code",
   "execution_count": 6,
   "id": "574b82a0-b0a7-4613-83d2-3b2fb09965ea",
   "metadata": {},
   "outputs": [
    {
     "name": "stdout",
     "output_type": "stream",
     "text": [
      "Total lensed: 34 / 62\n"
     ]
    }
   ],
   "source": [
    "data = collect_lensed('../data/lensed/ML_C')"
   ]
  },
  {
   "cell_type": "code",
   "execution_count": 7,
   "id": "251cad89-4775-4bf1-8054-8dc39dd411cb",
   "metadata": {},
   "outputs": [
    {
     "name": "stdout",
     "output_type": "stream",
     "text": [
      "Total lensed: 106 / 206\n"
     ]
    }
   ],
   "source": [
    "data = collect_lensed('../data/lensed/Huang21_A')"
   ]
  },
  {
   "cell_type": "code",
   "execution_count": 8,
   "id": "02d56d94-7be8-4ffe-9fc6-20c211eeccda",
   "metadata": {},
   "outputs": [
    {
     "name": "stdout",
     "output_type": "stream",
     "text": [
      "Total lensed: 117 / 191\n"
     ]
    }
   ],
   "source": [
    "data = collect_lensed('../data/lensed/Huang21_B')"
   ]
  },
  {
   "cell_type": "code",
   "execution_count": 9,
   "id": "3b4d6c72-69a0-463c-a3a1-84c3c6ab49ed",
   "metadata": {},
   "outputs": [
    {
     "name": "stdout",
     "output_type": "stream",
     "text": [
      "Total lensed: 572 / 843\n"
     ]
    }
   ],
   "source": [
    "data = collect_lensed('../data/lensed/Huang21_C')"
   ]
  },
  {
   "cell_type": "code",
   "execution_count": 2,
   "id": "9e9af1b4-d524-4d09-a35a-870b5b952490",
   "metadata": {},
   "outputs": [],
   "source": [
    "data = collect_gals('../data/testrun')"
   ]
  },
  {
   "cell_type": "code",
   "execution_count": 5,
   "id": "df1ee609-77ab-495d-a9af-c2dc9a9ad6c1",
   "metadata": {},
   "outputs": [
    {
     "data": {
      "text/html": [
       "<div>\n",
       "<style scoped>\n",
       "    .dataframe tbody tr th:only-of-type {\n",
       "        vertical-align: middle;\n",
       "    }\n",
       "\n",
       "    .dataframe tbody tr th {\n",
       "        vertical-align: top;\n",
       "    }\n",
       "\n",
       "    .dataframe thead th {\n",
       "        text-align: right;\n",
       "    }\n",
       "</style>\n",
       "<table border=\"1\" class=\"dataframe\">\n",
       "  <thead>\n",
       "    <tr style=\"text-align: right;\">\n",
       "      <th></th>\n",
       "      <th>ls_id</th>\n",
       "      <th>ra</th>\n",
       "      <th>dec</th>\n",
       "      <th>type</th>\n",
       "      <th>dered_mag_g</th>\n",
       "      <th>dered_mag_r</th>\n",
       "      <th>dered_mag_z</th>\n",
       "      <th>dered_mag_w1</th>\n",
       "      <th>dered_mag_w2</th>\n",
       "      <th>unc_g</th>\n",
       "      <th>...</th>\n",
       "      <th>unc_w2</th>\n",
       "      <th>z_phot_median</th>\n",
       "      <th>z_phot_std</th>\n",
       "      <th>z_spec</th>\n",
       "      <th>dered_flux_g</th>\n",
       "      <th>dered_flux_r</th>\n",
       "      <th>dered_flux_z</th>\n",
       "      <th>dered_flux_w1</th>\n",
       "      <th>dered_flux_w2</th>\n",
       "      <th>tag</th>\n",
       "    </tr>\n",
       "  </thead>\n",
       "  <tbody>\n",
       "    <tr>\n",
       "      <th>0</th>\n",
       "      <td>8796115089951731</td>\n",
       "      <td>149.841244</td>\n",
       "      <td>1.018637</td>\n",
       "      <td>DEV</td>\n",
       "      <td>23.201754</td>\n",
       "      <td>22.356958</td>\n",
       "      <td>22.289858</td>\n",
       "      <td>23.750008</td>\n",
       "      <td>NaN</td>\n",
       "      <td>0.065150</td>\n",
       "      <td>...</td>\n",
       "      <td>-0.690722</td>\n",
       "      <td>0.432835</td>\n",
       "      <td>0.178050</td>\n",
       "      <td>-99.0000</td>\n",
       "      <td>0.523961</td>\n",
       "      <td>1.140819</td>\n",
       "      <td>1.213548</td>\n",
       "      <td>0.316226</td>\n",
       "      <td>-2.148673</td>\n",
       "      <td>tst</td>\n",
       "    </tr>\n",
       "    <tr>\n",
       "      <th>1</th>\n",
       "      <td>8796115278562038</td>\n",
       "      <td>149.421547</td>\n",
       "      <td>1.406107</td>\n",
       "      <td>DEV</td>\n",
       "      <td>21.702497</td>\n",
       "      <td>21.372538</td>\n",
       "      <td>21.452879</td>\n",
       "      <td>NaN</td>\n",
       "      <td>NaN</td>\n",
       "      <td>0.045546</td>\n",
       "      <td>...</td>\n",
       "      <td>-0.140871</td>\n",
       "      <td>0.231661</td>\n",
       "      <td>0.239397</td>\n",
       "      <td>-99.0000</td>\n",
       "      <td>2.084496</td>\n",
       "      <td>2.824783</td>\n",
       "      <td>2.623304</td>\n",
       "      <td>-1.900767</td>\n",
       "      <td>-15.072433</td>\n",
       "      <td>tst</td>\n",
       "    </tr>\n",
       "    <tr>\n",
       "      <th>2</th>\n",
       "      <td>8796115184194653</td>\n",
       "      <td>149.375348</td>\n",
       "      <td>1.374884</td>\n",
       "      <td>DEV</td>\n",
       "      <td>24.719746</td>\n",
       "      <td>23.504185</td>\n",
       "      <td>21.305895</td>\n",
       "      <td>19.629570</td>\n",
       "      <td>20.209246</td>\n",
       "      <td>0.249244</td>\n",
       "      <td>...</td>\n",
       "      <td>0.177981</td>\n",
       "      <td>0.999594</td>\n",
       "      <td>0.104023</td>\n",
       "      <td>-99.0000</td>\n",
       "      <td>0.129450</td>\n",
       "      <td>0.396575</td>\n",
       "      <td>3.003602</td>\n",
       "      <td>14.066046</td>\n",
       "      <td>8.247109</td>\n",
       "      <td>tst</td>\n",
       "    </tr>\n",
       "    <tr>\n",
       "      <th>3</th>\n",
       "      <td>8796115278562014</td>\n",
       "      <td>149.376562</td>\n",
       "      <td>1.402851</td>\n",
       "      <td>DEV</td>\n",
       "      <td>25.426490</td>\n",
       "      <td>23.366247</td>\n",
       "      <td>21.207819</td>\n",
       "      <td>19.580494</td>\n",
       "      <td>20.832440</td>\n",
       "      <td>0.670884</td>\n",
       "      <td>...</td>\n",
       "      <td>0.327308</td>\n",
       "      <td>0.956415</td>\n",
       "      <td>0.093704</td>\n",
       "      <td>-99.0000</td>\n",
       "      <td>0.067516</td>\n",
       "      <td>0.450299</td>\n",
       "      <td>3.287548</td>\n",
       "      <td>14.716435</td>\n",
       "      <td>4.645409</td>\n",
       "      <td>tst</td>\n",
       "    </tr>\n",
       "    <tr>\n",
       "      <th>4</th>\n",
       "      <td>8796115278498251</td>\n",
       "      <td>149.219260</td>\n",
       "      <td>1.492591</td>\n",
       "      <td>DEV</td>\n",
       "      <td>22.977180</td>\n",
       "      <td>23.026808</td>\n",
       "      <td>22.552841</td>\n",
       "      <td>22.025452</td>\n",
       "      <td>20.894102</td>\n",
       "      <td>0.048105</td>\n",
       "      <td>...</td>\n",
       "      <td>0.325019</td>\n",
       "      <td>1.210540</td>\n",
       "      <td>0.341453</td>\n",
       "      <td>-99.0000</td>\n",
       "      <td>0.644359</td>\n",
       "      <td>0.615569</td>\n",
       "      <td>0.952497</td>\n",
       "      <td>1.548173</td>\n",
       "      <td>4.388934</td>\n",
       "      <td>tst</td>\n",
       "    </tr>\n",
       "    <tr>\n",
       "      <th>...</th>\n",
       "      <td>...</td>\n",
       "      <td>...</td>\n",
       "      <td>...</td>\n",
       "      <td>...</td>\n",
       "      <td>...</td>\n",
       "      <td>...</td>\n",
       "      <td>...</td>\n",
       "      <td>...</td>\n",
       "      <td>...</td>\n",
       "      <td>...</td>\n",
       "      <td>...</td>\n",
       "      <td>...</td>\n",
       "      <td>...</td>\n",
       "      <td>...</td>\n",
       "      <td>...</td>\n",
       "      <td>...</td>\n",
       "      <td>...</td>\n",
       "      <td>...</td>\n",
       "      <td>...</td>\n",
       "      <td>...</td>\n",
       "      <td>...</td>\n",
       "    </tr>\n",
       "    <tr>\n",
       "      <th>1089</th>\n",
       "      <td>8796115184258833</td>\n",
       "      <td>149.580977</td>\n",
       "      <td>1.301445</td>\n",
       "      <td>DEV</td>\n",
       "      <td>24.912098</td>\n",
       "      <td>23.390469</td>\n",
       "      <td>21.305450</td>\n",
       "      <td>19.205685</td>\n",
       "      <td>19.941689</td>\n",
       "      <td>0.237642</td>\n",
       "      <td>...</td>\n",
       "      <td>0.133211</td>\n",
       "      <td>0.972528</td>\n",
       "      <td>0.108875</td>\n",
       "      <td>-99.0000</td>\n",
       "      <td>0.108433</td>\n",
       "      <td>0.440364</td>\n",
       "      <td>3.004832</td>\n",
       "      <td>20.783869</td>\n",
       "      <td>10.551753</td>\n",
       "      <td>tst</td>\n",
       "    </tr>\n",
       "    <tr>\n",
       "      <th>1090</th>\n",
       "      <td>8796115184255958</td>\n",
       "      <td>149.635783</td>\n",
       "      <td>1.165474</td>\n",
       "      <td>DEV</td>\n",
       "      <td>24.445368</td>\n",
       "      <td>22.180323</td>\n",
       "      <td>20.618673</td>\n",
       "      <td>19.200708</td>\n",
       "      <td>20.230045</td>\n",
       "      <td>0.245999</td>\n",
       "      <td>...</td>\n",
       "      <td>0.183343</td>\n",
       "      <td>0.708734</td>\n",
       "      <td>0.040529</td>\n",
       "      <td>-99.0000</td>\n",
       "      <td>0.166668</td>\n",
       "      <td>1.342366</td>\n",
       "      <td>5.656280</td>\n",
       "      <td>20.879320</td>\n",
       "      <td>8.090620</td>\n",
       "      <td>tst</td>\n",
       "    </tr>\n",
       "    <tr>\n",
       "      <th>1091</th>\n",
       "      <td>8796115278564395</td>\n",
       "      <td>149.492409</td>\n",
       "      <td>1.509756</td>\n",
       "      <td>DEV</td>\n",
       "      <td>23.117222</td>\n",
       "      <td>21.776560</td>\n",
       "      <td>20.934420</td>\n",
       "      <td>19.321192</td>\n",
       "      <td>19.791760</td>\n",
       "      <td>0.104514</td>\n",
       "      <td>...</td>\n",
       "      <td>0.131365</td>\n",
       "      <td>0.594347</td>\n",
       "      <td>0.080693</td>\n",
       "      <td>0.6576</td>\n",
       "      <td>0.566384</td>\n",
       "      <td>1.947045</td>\n",
       "      <td>4.228945</td>\n",
       "      <td>18.686295</td>\n",
       "      <td>12.114234</td>\n",
       "      <td>tst</td>\n",
       "    </tr>\n",
       "    <tr>\n",
       "      <th>1092</th>\n",
       "      <td>8796115089952319</td>\n",
       "      <td>149.813087</td>\n",
       "      <td>1.044961</td>\n",
       "      <td>DEV</td>\n",
       "      <td>19.671507</td>\n",
       "      <td>19.266603</td>\n",
       "      <td>19.040766</td>\n",
       "      <td>19.442953</td>\n",
       "      <td>20.152079</td>\n",
       "      <td>0.004291</td>\n",
       "      <td>...</td>\n",
       "      <td>0.175434</td>\n",
       "      <td>0.088458</td>\n",
       "      <td>0.035541</td>\n",
       "      <td>-99.0000</td>\n",
       "      <td>13.533103</td>\n",
       "      <td>19.649826</td>\n",
       "      <td>24.193240</td>\n",
       "      <td>16.703941</td>\n",
       "      <td>8.692971</td>\n",
       "      <td>tst</td>\n",
       "    </tr>\n",
       "    <tr>\n",
       "      <th>1093</th>\n",
       "      <td>8796115184193785</td>\n",
       "      <td>149.370200</td>\n",
       "      <td>1.334186</td>\n",
       "      <td>DEV</td>\n",
       "      <td>22.773443</td>\n",
       "      <td>22.102392</td>\n",
       "      <td>21.694480</td>\n",
       "      <td>23.185104</td>\n",
       "      <td>NaN</td>\n",
       "      <td>0.073480</td>\n",
       "      <td>...</td>\n",
       "      <td>-106.360345</td>\n",
       "      <td>0.427547</td>\n",
       "      <td>0.130835</td>\n",
       "      <td>-99.0000</td>\n",
       "      <td>0.777361</td>\n",
       "      <td>1.442259</td>\n",
       "      <td>2.099944</td>\n",
       "      <td>0.532057</td>\n",
       "      <td>-0.013760</td>\n",
       "      <td>tst</td>\n",
       "    </tr>\n",
       "  </tbody>\n",
       "</table>\n",
       "<p>1094 rows × 23 columns</p>\n",
       "</div>"
      ],
      "text/plain": [
       "                 ls_id          ra       dec type  dered_mag_g  dered_mag_r  \\\n",
       "0     8796115089951731  149.841244  1.018637  DEV    23.201754    22.356958   \n",
       "1     8796115278562038  149.421547  1.406107  DEV    21.702497    21.372538   \n",
       "2     8796115184194653  149.375348  1.374884  DEV    24.719746    23.504185   \n",
       "3     8796115278562014  149.376562  1.402851  DEV    25.426490    23.366247   \n",
       "4     8796115278498251  149.219260  1.492591  DEV    22.977180    23.026808   \n",
       "...                ...         ...       ...  ...          ...          ...   \n",
       "1089  8796115184258833  149.580977  1.301445  DEV    24.912098    23.390469   \n",
       "1090  8796115184255958  149.635783  1.165474  DEV    24.445368    22.180323   \n",
       "1091  8796115278564395  149.492409  1.509756  DEV    23.117222    21.776560   \n",
       "1092  8796115089952319  149.813087  1.044961  DEV    19.671507    19.266603   \n",
       "1093  8796115184193785  149.370200  1.334186  DEV    22.773443    22.102392   \n",
       "\n",
       "      dered_mag_z  dered_mag_w1  dered_mag_w2     unc_g  ...      unc_w2  \\\n",
       "0       22.289858     23.750008           NaN  0.065150  ...   -0.690722   \n",
       "1       21.452879           NaN           NaN  0.045546  ...   -0.140871   \n",
       "2       21.305895     19.629570     20.209246  0.249244  ...    0.177981   \n",
       "3       21.207819     19.580494     20.832440  0.670884  ...    0.327308   \n",
       "4       22.552841     22.025452     20.894102  0.048105  ...    0.325019   \n",
       "...           ...           ...           ...       ...  ...         ...   \n",
       "1089    21.305450     19.205685     19.941689  0.237642  ...    0.133211   \n",
       "1090    20.618673     19.200708     20.230045  0.245999  ...    0.183343   \n",
       "1091    20.934420     19.321192     19.791760  0.104514  ...    0.131365   \n",
       "1092    19.040766     19.442953     20.152079  0.004291  ...    0.175434   \n",
       "1093    21.694480     23.185104           NaN  0.073480  ... -106.360345   \n",
       "\n",
       "      z_phot_median  z_phot_std   z_spec  dered_flux_g  dered_flux_r  \\\n",
       "0          0.432835    0.178050 -99.0000      0.523961      1.140819   \n",
       "1          0.231661    0.239397 -99.0000      2.084496      2.824783   \n",
       "2          0.999594    0.104023 -99.0000      0.129450      0.396575   \n",
       "3          0.956415    0.093704 -99.0000      0.067516      0.450299   \n",
       "4          1.210540    0.341453 -99.0000      0.644359      0.615569   \n",
       "...             ...         ...      ...           ...           ...   \n",
       "1089       0.972528    0.108875 -99.0000      0.108433      0.440364   \n",
       "1090       0.708734    0.040529 -99.0000      0.166668      1.342366   \n",
       "1091       0.594347    0.080693   0.6576      0.566384      1.947045   \n",
       "1092       0.088458    0.035541 -99.0000     13.533103     19.649826   \n",
       "1093       0.427547    0.130835 -99.0000      0.777361      1.442259   \n",
       "\n",
       "      dered_flux_z  dered_flux_w1  dered_flux_w2  tag  \n",
       "0         1.213548       0.316226      -2.148673  tst  \n",
       "1         2.623304      -1.900767     -15.072433  tst  \n",
       "2         3.003602      14.066046       8.247109  tst  \n",
       "3         3.287548      14.716435       4.645409  tst  \n",
       "4         0.952497       1.548173       4.388934  tst  \n",
       "...            ...            ...            ...  ...  \n",
       "1089      3.004832      20.783869      10.551753  tst  \n",
       "1090      5.656280      20.879320       8.090620  tst  \n",
       "1091      4.228945      18.686295      12.114234  tst  \n",
       "1092     24.193240      16.703941       8.692971  tst  \n",
       "1093      2.099944       0.532057      -0.013760  tst  \n",
       "\n",
       "[1094 rows x 23 columns]"
      ]
     },
     "execution_count": 5,
     "metadata": {},
     "output_type": "execute_result"
    }
   ],
   "source": [
    "data"
   ]
  },
  {
   "cell_type": "code",
   "execution_count": null,
   "id": "99164f23-1e68-4e92-aa4e-f5d3ba75db84",
   "metadata": {},
   "outputs": [],
   "source": []
  }
 ],
 "metadata": {
  "kernelspec": {
   "display_name": "NERSC Python",
   "language": "python",
   "name": "python3"
  },
  "language_info": {
   "codemirror_mode": {
    "name": "ipython",
    "version": 3
   },
   "file_extension": ".py",
   "mimetype": "text/x-python",
   "name": "python",
   "nbconvert_exporter": "python",
   "pygments_lexer": "ipython3",
   "version": "3.9.7"
  }
 },
 "nbformat": 4,
 "nbformat_minor": 5
}

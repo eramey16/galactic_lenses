{
 "cells": [
  {
   "cell_type": "code",
   "execution_count": null,
   "id": "6abf8109-8183-4757-af6d-b846dd524971",
   "metadata": {},
   "outputs": [],
   "source": [
    "from astropy.io import fits"
   ]
  },
  {
   "cell_type": "code",
   "execution_count": null,
   "id": "39dba28f-9ef5-47e0-a0e8-b1c87d635c61",
   "metadata": {},
   "outputs": [],
   "source": [
    "import numpy as np\n",
    "import pandas as pd"
   ]
  },
  {
   "cell_type": "code",
   "execution_count": null,
   "id": "64482cbc-d8e0-43e8-8dbe-4e692f6263a2",
   "metadata": {},
   "outputs": [],
   "source": [
    "import matplotlib.pyplot as plt"
   ]
  },
  {
   "cell_type": "markdown",
   "id": "6633673b-05d6-4084-b37c-5673908992bc",
   "metadata": {
    "jp-MarkdownHeadingCollapsed": true,
    "tags": []
   },
   "source": [
    "# Going through the tutorial here: https://prospect.readthedocs.io/en/latest/quickstart.html"
   ]
  },
  {
   "cell_type": "code",
   "execution_count": null,
   "id": "8d654e30-34ed-49ad-b7d6-2f28dd8765b4",
   "metadata": {},
   "outputs": [],
   "source": [
    "import fsps\n",
    "import dynesty\n",
    "import sedpy\n",
    "import h5py, astropy\n",
    "import numpy as np"
   ]
  },
  {
   "cell_type": "code",
   "execution_count": null,
   "id": "87d57782-17bc-4af5-a2da-f693f6360cc5",
   "metadata": {},
   "outputs": [],
   "source": [
    "from astroquery.sdss import SDSS\n",
    "from astropy.coordinates import SkyCoord\n",
    "bands = \"ugriz\"\n",
    "mcol = [f\"cModelMag_{b}\" for b in bands]\n",
    "ecol = [f\"cModelMagErr_{b}\" for b in bands]\n",
    "cat = SDSS.query_crossid(SkyCoord(ra=204.46376, dec=35.79883, unit=\"deg\"), \n",
    "                         data_release=16, photoobj_fields=mcol + ecol + [\"specObjID\"])\n",
    "shdus = SDSS.get_spectra(plate=2101, mjd=53858, fiberID=220)[0]\n",
    "assert int(shdus[2].data[\"SpecObjID\"][0]) == cat[0][\"specObjID\"]"
   ]
  },
  {
   "cell_type": "code",
   "execution_count": null,
   "id": "79156aed-272f-4927-abb7-3f52545a6cb3",
   "metadata": {},
   "outputs": [],
   "source": [
    "from sedpy.observate import load_filters\n",
    "from prospect.utils.obsutils import fix_obs\n",
    "\n",
    "filters = load_filters([f\"sdss_{b}0\" for b in bands])\n",
    "maggies = np.array([10**(-0.4 * cat[0][f\"cModelMag_{b}\"]) for b in bands])\n",
    "magerr = np.array([cat[0][f\"cModelMagErr_{b}\"] for b in bands])\n",
    "magerr = np.clip(magerr, 0.05, np.inf)\n",
    "\n",
    "obs = dict(wavelength=None, spectrum=None, unc=None, redshift=shdus[2].data[0][\"z\"],\n",
    "           maggies=maggies, maggies_unc=magerr * maggies / 1.086, filters=filters)\n",
    "obs = fix_obs(obs)"
   ]
  },
  {
   "cell_type": "code",
   "execution_count": null,
   "id": "05f72d0f-2c12-4792-909a-b9968f811c40",
   "metadata": {
    "tags": []
   },
   "outputs": [],
   "source": [
    "from prospect.models.templates import TemplateLibrary\n",
    "from prospect.models import SpecModel\n",
    "model_params = TemplateLibrary[\"parametric_sfh\"]\n",
    "model_params.update(TemplateLibrary[\"nebular\"])\n",
    "model_params[\"zred\"][\"init\"] = obs[\"redshift\"]\n",
    "\n",
    "model = SpecModel(model_params)\n",
    "assert len(model.free_params) == 5\n",
    "print(model)"
   ]
  },
  {
   "cell_type": "code",
   "execution_count": null,
   "id": "6f03417c-0507-4a31-91c1-79749ae6bc76",
   "metadata": {},
   "outputs": [],
   "source": [
    "noise_model = (None, None)"
   ]
  },
  {
   "cell_type": "code",
   "execution_count": null,
   "id": "8242aa73-b035-48f7-ba72-ded4296695e0",
   "metadata": {},
   "outputs": [],
   "source": [
    "from prospect.sources import CSPSpecBasis\n",
    "sps = CSPSpecBasis(zcontinuous=1)\n",
    "print(sps.ssp.libraries)"
   ]
  },
  {
   "cell_type": "code",
   "execution_count": null,
   "id": "f59a8933-457b-446f-b699-6419806033c5",
   "metadata": {},
   "outputs": [],
   "source": [
    "current_parameters = \",\".join([f\"{p}={v}\" for p, v in zip(model.free_params, model.theta)])\n",
    "print(current_parameters)\n",
    "spec, phot, mfrac = model.predict(model.theta, obs=obs, sps=sps)\n",
    "print(phot / obs[\"maggies\"])"
   ]
  },
  {
   "cell_type": "code",
   "execution_count": null,
   "id": "334e76fc-16dd-464b-aba1-609abd1e5e2d",
   "metadata": {},
   "outputs": [],
   "source": [
    "from prospect.fitting import lnprobfn, fit_model\n",
    "fitting_kwargs = dict(nlive_init=400, nested_method=\"rwalk\", nested_posterior_thresh=0.05)\n",
    "output = fit_model(obs, model, sps, optimize=False, dynesty=True, lnprobfn=lnprobfn, noise=noise_model, **fitting_kwargs)\n",
    "result, duration = output[\"sampling\"]"
   ]
  },
  {
   "cell_type": "code",
   "execution_count": null,
   "id": "1b6f56e9-61f6-438a-8f72-b2af3c3469f8",
   "metadata": {},
   "outputs": [],
   "source": [
    "from prospect.io import write_results as writer\n",
    "hfile = \"quickstart_dynesty_mcmc.h5\"\n",
    "writer.write_hdf5(hfile, {}, model, obs,\n",
    "                 output[\"sampling\"][0], None,\n",
    "                 sps=sps,\n",
    "                 tsample=output[\"sampling\"][1],\n",
    "                 toptimize=0.0)\n"
   ]
  },
  {
   "cell_type": "markdown",
   "id": "9b801f56-4840-4cc6-9002-d562283731b2",
   "metadata": {
    "tags": []
   },
   "source": [
    "# Using Taskfarmer"
   ]
  },
  {
   "cell_type": "code",
   "execution_count": 6,
   "id": "2e5315a2-151e-41a1-9f90-53da13c58a63",
   "metadata": {},
   "outputs": [],
   "source": [
    "import pandas as pd\n",
    "import csv"
   ]
  },
  {
   "cell_type": "code",
   "execution_count": 7,
   "id": "a4c7976f-2551-4f3d-944f-e76decb9c76e",
   "metadata": {},
   "outputs": [],
   "source": [
    "galaxies = pd.read_csv(\"../data/first_query.txt\", nrows=1000)"
   ]
  },
  {
   "cell_type": "code",
   "execution_count": 8,
   "id": "71af9b85-ca09-47e1-9313-5fe1f261bedf",
   "metadata": {},
   "outputs": [],
   "source": [
    "shft_cmd = \"shifter --image=audreykoz/gradient:latest\" \\\n",
    "\" --volume='/global/cscratch1/sd/eramey16/data/testrun:/gradient_boosted/exports'\" \\\n",
    "\" /opt/conda/bin/python /gradient_boosted/classify.py -r {} -d {}\""
   ]
  },
  {
   "cell_type": "code",
   "execution_count": 9,
   "id": "94647e25-387c-4b9e-9e87-8642158f43cc",
   "metadata": {},
   "outputs": [],
   "source": [
    "galaxies['run'] = [shft_cmd.format(a,b) for a,b in zip(galaxies.ra, galaxies.dec)]"
   ]
  },
  {
   "cell_type": "code",
   "execution_count": 10,
   "id": "091b50b2-0772-4b79-928d-ac66d5099fe8",
   "metadata": {},
   "outputs": [
    {
     "data": {
      "text/html": [
       "<div>\n",
       "<style scoped>\n",
       "    .dataframe tbody tr th:only-of-type {\n",
       "        vertical-align: middle;\n",
       "    }\n",
       "\n",
       "    .dataframe tbody tr th {\n",
       "        vertical-align: top;\n",
       "    }\n",
       "\n",
       "    .dataframe thead th {\n",
       "        text-align: right;\n",
       "    }\n",
       "</style>\n",
       "<table border=\"1\" class=\"dataframe\">\n",
       "  <thead>\n",
       "    <tr style=\"text-align: right;\">\n",
       "      <th></th>\n",
       "      <th>ls_id</th>\n",
       "      <th>ra</th>\n",
       "      <th>dec</th>\n",
       "      <th>run</th>\n",
       "    </tr>\n",
       "  </thead>\n",
       "  <tbody>\n",
       "    <tr>\n",
       "      <th>0</th>\n",
       "      <td>8796115184194014</td>\n",
       "      <td>149.285304</td>\n",
       "      <td>1.345116</td>\n",
       "      <td>shifter --image=audreykoz/gradient:latest --vo...</td>\n",
       "    </tr>\n",
       "    <tr>\n",
       "      <th>1</th>\n",
       "      <td>8796115184193402</td>\n",
       "      <td>149.273901</td>\n",
       "      <td>1.313647</td>\n",
       "      <td>shifter --image=audreykoz/gradient:latest --vo...</td>\n",
       "    </tr>\n",
       "    <tr>\n",
       "      <th>2</th>\n",
       "      <td>8796115184193181</td>\n",
       "      <td>149.291823</td>\n",
       "      <td>1.303267</td>\n",
       "      <td>shifter --image=audreykoz/gradient:latest --vo...</td>\n",
       "    </tr>\n",
       "    <tr>\n",
       "      <th>3</th>\n",
       "      <td>8796115278499067</td>\n",
       "      <td>149.127949</td>\n",
       "      <td>1.530269</td>\n",
       "      <td>shifter --image=audreykoz/gradient:latest --vo...</td>\n",
       "    </tr>\n",
       "    <tr>\n",
       "      <th>4</th>\n",
       "      <td>8796115278498990</td>\n",
       "      <td>149.121014</td>\n",
       "      <td>1.526591</td>\n",
       "      <td>shifter --image=audreykoz/gradient:latest --vo...</td>\n",
       "    </tr>\n",
       "    <tr>\n",
       "      <th>...</th>\n",
       "      <td>...</td>\n",
       "      <td>...</td>\n",
       "      <td>...</td>\n",
       "      <td>...</td>\n",
       "    </tr>\n",
       "    <tr>\n",
       "      <th>995</th>\n",
       "      <td>8796115278693161</td>\n",
       "      <td>149.765329</td>\n",
       "      <td>1.415705</td>\n",
       "      <td>shifter --image=audreykoz/gradient:latest --vo...</td>\n",
       "    </tr>\n",
       "    <tr>\n",
       "      <th>996</th>\n",
       "      <td>8796115278693010</td>\n",
       "      <td>149.784284</td>\n",
       "      <td>1.406019</td>\n",
       "      <td>shifter --image=audreykoz/gradient:latest --vo...</td>\n",
       "    </tr>\n",
       "    <tr>\n",
       "      <th>997</th>\n",
       "      <td>8796115278693406</td>\n",
       "      <td>149.765189</td>\n",
       "      <td>1.427825</td>\n",
       "      <td>shifter --image=audreykoz/gradient:latest --vo...</td>\n",
       "    </tr>\n",
       "    <tr>\n",
       "      <th>998</th>\n",
       "      <td>8796115278693488</td>\n",
       "      <td>149.783395</td>\n",
       "      <td>1.435049</td>\n",
       "      <td>shifter --image=audreykoz/gradient:latest --vo...</td>\n",
       "    </tr>\n",
       "    <tr>\n",
       "      <th>999</th>\n",
       "      <td>8796115278693061</td>\n",
       "      <td>149.792679</td>\n",
       "      <td>1.409333</td>\n",
       "      <td>shifter --image=audreykoz/gradient:latest --vo...</td>\n",
       "    </tr>\n",
       "  </tbody>\n",
       "</table>\n",
       "<p>1000 rows × 4 columns</p>\n",
       "</div>"
      ],
      "text/plain": [
       "                ls_id          ra       dec  \\\n",
       "0    8796115184194014  149.285304  1.345116   \n",
       "1    8796115184193402  149.273901  1.313647   \n",
       "2    8796115184193181  149.291823  1.303267   \n",
       "3    8796115278499067  149.127949  1.530269   \n",
       "4    8796115278498990  149.121014  1.526591   \n",
       "..                ...         ...       ...   \n",
       "995  8796115278693161  149.765329  1.415705   \n",
       "996  8796115278693010  149.784284  1.406019   \n",
       "997  8796115278693406  149.765189  1.427825   \n",
       "998  8796115278693488  149.783395  1.435049   \n",
       "999  8796115278693061  149.792679  1.409333   \n",
       "\n",
       "                                                   run  \n",
       "0    shifter --image=audreykoz/gradient:latest --vo...  \n",
       "1    shifter --image=audreykoz/gradient:latest --vo...  \n",
       "2    shifter --image=audreykoz/gradient:latest --vo...  \n",
       "3    shifter --image=audreykoz/gradient:latest --vo...  \n",
       "4    shifter --image=audreykoz/gradient:latest --vo...  \n",
       "..                                                 ...  \n",
       "995  shifter --image=audreykoz/gradient:latest --vo...  \n",
       "996  shifter --image=audreykoz/gradient:latest --vo...  \n",
       "997  shifter --image=audreykoz/gradient:latest --vo...  \n",
       "998  shifter --image=audreykoz/gradient:latest --vo...  \n",
       "999  shifter --image=audreykoz/gradient:latest --vo...  \n",
       "\n",
       "[1000 rows x 4 columns]"
      ]
     },
     "execution_count": 10,
     "metadata": {},
     "output_type": "execute_result"
    }
   ],
   "source": [
    "galaxies"
   ]
  },
  {
   "cell_type": "code",
   "execution_count": 11,
   "id": "0b773c3c-8367-4f49-ba93-9150bdb10dde",
   "metadata": {},
   "outputs": [],
   "source": [
    "galaxies['run'].to_csv('../data/tasks.txt', sep='\\t', header=False, index=False, quoting=3)"
   ]
  },
  {
   "cell_type": "code",
   "execution_count": 38,
   "id": "c8901dbf-abb8-4a70-97bf-7a1238a039ff",
   "metadata": {},
   "outputs": [],
   "source": [
    "galaxies = pd.read_csv(\"../data/masterlens.tsv\", skiprows=1, sep='\\t')"
   ]
  },
  {
   "cell_type": "code",
   "execution_count": 41,
   "id": "34d9dbba-e1a8-48bf-b1df-bd87136bd4d5",
   "metadata": {},
   "outputs": [
    {
     "data": {
      "text/plain": [
       "Index(['# system_name', 'discovery_date', 'alternate_name', 'kind_acronym',\n",
       "       'discovery_acronym', 'reference_identifier', 'ra_hrs', 'ra_mins',\n",
       "       'ra_secs', 'ra_coord', 'dec_degrees', 'dec_arcmin', 'dec_arcsec',\n",
       "       'dec_coord', 'lensgrade', 'number_images', 'theta_e', 'theta_e_err',\n",
       "       'theta_e_quality', 'z_lens', 'z_lens_err', 'z_lens_quality', 'z_source',\n",
       "       'z_source_err', 'z_source_quality', 'vdisp', 'vdisp_err', 'filter_lens',\n",
       "       'filter_source', 'fluxes', 'mag_lens', 'mag_source', 'morphology',\n",
       "       'has_sdss', 'sdss_link', 'has_adsabs', 'adsabs_link', 'apod_link',\n",
       "       'vett_status', 'released_status', 'hidden_status', 'vetted', 'released',\n",
       "       'hidden', 'graphic_status', 'equinox', 'sdss_ObjID', 'sdss_specObjID',\n",
       "       'time_delay0', 'time_delay1', 'lens_name'],\n",
       "      dtype='object')"
      ]
     },
     "execution_count": 41,
     "metadata": {},
     "output_type": "execute_result"
    }
   ],
   "source": [
    "galaxies.columns = galaxies.columns.str.replace('\"', '')\n",
    "galaxies.columns = galaxies.columns.str.strip()\n",
    "# galaxies.apply(lambda s: s.str.replace('\"', \"\"))\n",
    "# galaxies.apply(lambda s: s.str.strip())\n",
    "galaxies.columns"
   ]
  },
  {
   "cell_type": "code",
   "execution_count": 48,
   "id": "764fbbe6-5620-415b-8c91-258e8489dd79",
   "metadata": {},
   "outputs": [],
   "source": [
    "radec = galaxies[['ra_coord', 'dec_coord']]\n",
    "radec.columns = ['ra', 'dec']\n",
    "radec.to_csv('coords_A.csv', index=False)"
   ]
  },
  {
   "cell_type": "code",
   "execution_count": 33,
   "id": "251f769e-f7bd-4544-abec-e052f04361bc",
   "metadata": {},
   "outputs": [
    {
     "data": {
      "text/plain": [
       "' \"2008-08-01\"'"
      ]
     },
     "execution_count": 33,
     "metadata": {},
     "output_type": "execute_result"
    }
   ],
   "source": [
    "galaxies.iloc[0]['discovery_date']"
   ]
  },
  {
   "cell_type": "code",
   "execution_count": null,
   "id": "6b44aad5-5224-4cee-80d1-cc37ec52971f",
   "metadata": {},
   "outputs": [],
   "source": []
  }
 ],
 "metadata": {
  "kernelspec": {
   "display_name": "NERSC Python",
   "language": "python",
   "name": "python3"
  },
  "language_info": {
   "codemirror_mode": {
    "name": "ipython",
    "version": 3
   },
   "file_extension": ".py",
   "mimetype": "text/x-python",
   "name": "python",
   "nbconvert_exporter": "python",
   "pygments_lexer": "ipython3",
   "version": "3.9.7"
  }
 },
 "nbformat": 4,
 "nbformat_minor": 5
}

{
 "cells": [
  {
   "cell_type": "code",
   "execution_count": null,
   "id": "6abf8109-8183-4757-af6d-b846dd524971",
   "metadata": {},
   "outputs": [],
   "source": [
    "from astropy.io import fits"
   ]
  },
  {
   "cell_type": "code",
   "execution_count": null,
   "id": "39dba28f-9ef5-47e0-a0e8-b1c87d635c61",
   "metadata": {},
   "outputs": [],
   "source": [
    "import numpy as np\n",
    "import pandas as pd"
   ]
  },
  {
   "cell_type": "code",
   "execution_count": null,
   "id": "64482cbc-d8e0-43e8-8dbe-4e692f6263a2",
   "metadata": {},
   "outputs": [],
   "source": [
    "import matplotlib.pyplot as plt"
   ]
  },
  {
   "cell_type": "markdown",
   "id": "6633673b-05d6-4084-b37c-5673908992bc",
   "metadata": {},
   "source": [
    "### Going through the tutorial here: https://prospect.readthedocs.io/en/latest/quickstart.html"
   ]
  },
  {
   "cell_type": "code",
   "execution_count": null,
   "id": "8d654e30-34ed-49ad-b7d6-2f28dd8765b4",
   "metadata": {},
   "outputs": [],
   "source": [
    "import fsps\n",
    "import dynesty\n",
    "import sedpy\n",
    "import h5py, astropy\n",
    "import numpy as np"
   ]
  },
  {
   "cell_type": "code",
   "execution_count": null,
   "id": "87d57782-17bc-4af5-a2da-f693f6360cc5",
   "metadata": {},
   "outputs": [],
   "source": [
    "from astroquery.sdss import SDSS\n",
    "from astropy.coordinates import SkyCoord\n",
    "bands = \"ugriz\"\n",
    "mcol = [f\"cModelMag_{b}\" for b in bands]\n",
    "ecol = [f\"cModelMagErr_{b}\" for b in bands]\n",
    "cat = SDSS.query_crossid(SkyCoord(ra=204.46376, dec=35.79883, unit=\"deg\"), \n",
    "                         data_release=16, photoobj_fields=mcol + ecol + [\"specObjID\"])\n",
    "shdus = SDSS.get_spectra(plate=2101, mjd=53858, fiberID=220)[0]\n",
    "assert int(shdus[2].data[\"SpecObjID\"][0]) == cat[0][\"specObjID\"]"
   ]
  },
  {
   "cell_type": "code",
   "execution_count": null,
   "id": "79156aed-272f-4927-abb7-3f52545a6cb3",
   "metadata": {},
   "outputs": [],
   "source": [
    "from sedpy.observate import load_filters\n",
    "from prospect.utils.obsutils import fix_obs\n",
    "\n",
    "filters = load_filters([f\"sdss_{b}0\" for b in bands])\n",
    "maggies = np.array([10**(-0.4 * cat[0][f\"cModelMag_{b}\"]) for b in bands])\n",
    "magerr = np.array([cat[0][f\"cModelMagErr_{b}\"] for b in bands])\n",
    "magerr = np.clip(magerr, 0.05, np.inf)\n",
    "\n",
    "obs = dict(wavelength=None, spectrum=None, unc=None, redshift=shdus[2].data[0][\"z\"],\n",
    "           maggies=maggies, maggies_unc=magerr * maggies / 1.086, filters=filters)\n",
    "obs = fix_obs(obs)"
   ]
  },
  {
   "cell_type": "code",
   "execution_count": null,
   "id": "05f72d0f-2c12-4792-909a-b9968f811c40",
   "metadata": {
    "tags": []
   },
   "outputs": [],
   "source": [
    "from prospect.models.templates import TemplateLibrary\n",
    "from prospect.models import SpecModel\n",
    "model_params = TemplateLibrary[\"parametric_sfh\"]\n",
    "model_params.update(TemplateLibrary[\"nebular\"])\n",
    "model_params[\"zred\"][\"init\"] = obs[\"redshift\"]\n",
    "\n",
    "model = SpecModel(model_params)\n",
    "assert len(model.free_params) == 5\n",
    "print(model)"
   ]
  },
  {
   "cell_type": "code",
   "execution_count": null,
   "id": "6f03417c-0507-4a31-91c1-79749ae6bc76",
   "metadata": {},
   "outputs": [],
   "source": [
    "noise_model = (None, None)"
   ]
  },
  {
   "cell_type": "code",
   "execution_count": null,
   "id": "8242aa73-b035-48f7-ba72-ded4296695e0",
   "metadata": {},
   "outputs": [],
   "source": [
    "from prospect.sources import CSPSpecBasis\n",
    "sps = CSPSpecBasis(zcontinuous=1)\n",
    "print(sps.ssp.libraries)"
   ]
  },
  {
   "cell_type": "code",
   "execution_count": null,
   "id": "f59a8933-457b-446f-b699-6419806033c5",
   "metadata": {},
   "outputs": [],
   "source": [
    "current_parameters = \",\".join([f\"{p}={v}\" for p, v in zip(model.free_params, model.theta)])\n",
    "print(current_parameters)\n",
    "spec, phot, mfrac = model.predict(model.theta, obs=obs, sps=sps)\n",
    "print(phot / obs[\"maggies\"])"
   ]
  },
  {
   "cell_type": "code",
   "execution_count": null,
   "id": "334e76fc-16dd-464b-aba1-609abd1e5e2d",
   "metadata": {},
   "outputs": [],
   "source": [
    "from prospect.fitting import lnprobfn, fit_model\n",
    "fitting_kwargs = dict(nlive_init=400, nested_method=\"rwalk\", nested_posterior_thresh=0.05)\n",
    "output = fit_model(obs, model, sps, optimize=False, dynesty=True, lnprobfn=lnprobfn, noise=noise_model, **fitting_kwargs)\n",
    "result, duration = output[\"sampling\"]"
   ]
  },
  {
   "cell_type": "code",
   "execution_count": null,
   "id": "1b6f56e9-61f6-438a-8f72-b2af3c3469f8",
   "metadata": {},
   "outputs": [],
   "source": [
    "from prospect.io import write_results as writer\n",
    "hfile = \"quickstart_dynesty_mcmc.h5\"\n",
    "writer.write_hdf5(hfile, {}, model, obs,\n",
    "                 output[\"sampling\"][0], None,\n",
    "                 sps=sps,\n",
    "                 tsample=output[\"sampling\"][1],\n",
    "                 toptimize=0.0)\n"
   ]
  }
 ],
 "metadata": {
  "kernelspec": {
   "display_name": "Python 3 (ipykernel)",
   "language": "python",
   "name": "python3"
  },
  "language_info": {
   "codemirror_mode": {
    "name": "ipython",
    "version": 3
   },
   "file_extension": ".py",
   "mimetype": "text/x-python",
   "name": "python",
   "nbconvert_exporter": "python",
   "pygments_lexer": "ipython3",
   "version": "3.7.11"
  }
 },
 "nbformat": 4,
 "nbformat_minor": 5
}

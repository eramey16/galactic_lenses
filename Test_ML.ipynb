{
 "cells": [
  {
   "cell_type": "markdown",
   "id": "46c737c3-12e1-4431-b3af-bfb249c26fab",
   "metadata": {},
   "source": [
    "# New ML Run 2/27/23"
   ]
  },
  {
   "cell_type": "code",
   "execution_count": 1,
   "id": "6932aaa6-cf9c-43e1-b541-ac9298d3bf24",
   "metadata": {},
   "outputs": [
    {
     "name": "stderr",
     "output_type": "stream",
     "text": [
      "<frozen importlib._bootstrap>:228: RuntimeWarning: scipy._lib.messagestream.MessageStream size changed, may indicate binary incompatibility. Expected 56 from C header, got 64 from PyObject\n"
     ]
    }
   ],
   "source": [
    "import numpy as np\n",
    "import pandas as pd\n",
    "import util\n",
    "import matplotlib.pyplot as plt\n",
    "\n",
    "from sqlalchemy import create_engine, Column, Table, MetaData, insert\n",
    "from sqlalchemy.types import BIGINT, FLOAT, REAL, VARCHAR, BOOLEAN\n",
    "\n",
    "data_dir = \"/global/cscratch1/sd/eramey16/data/dr9_training/unlensed_02_23/\"\n",
    "seed = 42\n",
    "\n",
    "conn_string = 'postgresql+psycopg2://lensed_db_admin@nerscdb03.nersc.gov/lensed_db'"
   ]
  },
  {
   "cell_type": "markdown",
   "id": "e4690b5c-9671-48c1-9df2-6e896b9f673b",
   "metadata": {},
   "source": [
    "##### Downloaded galaxies from 6 degrees around RA 160 DEC 2\n",
    "[DESI Legacy Survey](https://datalab.noirlab.edu/query.php?name=ls_dr9.photo_z)\n",
    "query:\n",
    "```\n",
    "SELECT trac.ls_id, trac.ra, trac.dec, trac.type, trac.dered_mag_g, trac.dered_mag_r, trac.dered_mag_z, trac.dered_mag_w1, trac.dered_mag_w2,\n",
    "trac.dered_flux_g, trac.dered_flux_r, trac.dered_flux_z, trac.dered_flux_w1, trac.dered_flux_w2,\n",
    "trac.snr_g, trac.snr_r, trac.snr_z, trac.snr_w1, trac.snr_w2,\n",
    "trac.flux_ivar_g, trac.flux_ivar_r, trac.flux_ivar_z, trac.flux_ivar_w1, trac.flux_ivar_w2,\n",
    "trac.dchisq_1, trac.dchisq_2, trac.dchisq_3, trac.dchisq_4, trac.dchisq_5,\n",
    "trac.rchisq_g, trac.rchisq_r, trac.rchisq_z, trac.rchisq_w1, trac.rchisq_w2,\n",
    "trac.sersic, trac.sersic_ivar,\n",
    "trac.psfsize_g, trac.psfsize_r, trac.psfsize_z,\n",
    "trac.shape_r, trac.shape_e1, trac.shape_e2,\n",
    "trac.shape_r_ivar, trac.shape_e1_ivar, trac.shape_e2_ivar,\n",
    "phot_z.z_phot_median, phot_z.z_phot_std, phot_z.z_spec\n",
    "FROM ls_dr9.tractor AS trac\n",
    "INNER JOIN ls_dr9.photo_z AS phot_z ON trac.ls_id = phot_z.ls_id\n",
    "WHERE (q3c_radial_query(ra,dec, 160, 2, 6))\n",
    "AND NOT trac.type='PSF'\n",
    "AND NOT trac.type='DUP'\n",
    "ORDER BY trac.random_id\n",
    "```"
   ]
  },
  {
   "cell_type": "code",
   "execution_count": 2,
   "id": "1196d202-df1e-449a-85a2-624bb40f4b90",
   "metadata": {},
   "outputs": [
    {
     "data": {
      "text/plain": [
       "[<matplotlib.lines.Line2D at 0x155516a17580>]"
      ]
     },
     "execution_count": 2,
     "metadata": {},
     "output_type": "execute_result"
    },
    {
     "data": {
      "image/png": "[encoded data removed]",
      "text/plain": [
       "<Figure size 432x288 with 1 Axes>"
      ]
     },
     "metadata": {
      "needs_background": "light"
     },
     "output_type": "display_data"
    }
   ],
   "source": [
    "all_galaxies = pd.read_csv(data_dir+\"dr9_160_2_6deg.dat.txt\")\n",
    "plt.plot(all_galaxies.ra, all_galaxies.dec, '.', ms=1)"
   ]
  },
  {
   "cell_type": "code",
   "execution_count": 3,
   "id": "f6a168e7-a95b-437d-bd11-4993a5e0a7b6",
   "metadata": {},
   "outputs": [
    {
     "name": "stderr",
     "output_type": "stream",
     "text": [
      "/global/homes/e/eramey16/.conda/envs/myprospector/lib/python3.9/site-packages/pandas/core/arraylike.py:397: RuntimeWarning: invalid value encountered in log10\n",
      "  result = getattr(ufunc, method)(*inputs, **kwargs)\n"
     ]
    }
   ],
   "source": [
    "db_cols = all_galaxies.columns\n",
    "clean_galaxies = util.clean_and_calc(all_galaxies, mode='dr9')\n",
    "clean_galaxies = clean_galaxies.sample(n=10000, random_state=seed).reset_index(drop=True)\n",
    "clean_galaxies = clean_galaxies[db_cols]"
   ]
  },
  {
   "cell_type": "code",
   "execution_count": 4,
   "id": "7e1b862e-e12a-40ab-afc3-0363680e920e",
   "metadata": {},
   "outputs": [],
   "source": [
    "engine = create_engine(conn_string)\n",
    "conn = engine.connect()\n",
    "\n",
    "util.bookkeeping_setup(conn, 'cosmos_160', clean_galaxies, tag='run2')"
   ]
  },
  {
   "cell_type": "code",
   "execution_count": 15,
   "id": "fff6a75e-a593-4790-a2fb-5606326ce22d",
   "metadata": {},
   "outputs": [
    {
     "data": {
      "text/plain": [
       "(1, 1, 'cosmos_160', 9906620138523199, datetime.datetime(2023, 3, 4, 0, 13, 16, 599006), 1, 'run2')"
      ]
     },
     "execution_count": 15,
     "metadata": {},
     "output_type": "execute_result"
    }
   ],
   "source": [
    "conn.execute(\"SELECT * from bookkeeping\").first()"
   ]
  },
  {
   "cell_type": "code",
   "execution_count": 17,
   "id": "7a00d31b-4918-4dae-88af-3cee963c7a67",
   "metadata": {},
   "outputs": [
    {
     "data": {
      "text/plain": [
       "(9906620138523199, 161.359081536234, -3.61537897705767, 'REX', 24.5272, 23.950127, 26.303099, nan, nan, 0.154568, 0.262996, 0.030113, -2.415954, -1.585608, 5.126769, 5.626246, 0.26396, -4.243859, -1.267464, 1459.7465, 553.70496, 85.47421, 3.136003, 0.645353, 53.576904, 55.63601, 55.546356, 55.80115, 0.0, 1.023466, 0.821119, 0.966824, 0.630448, 0.882539, 1.0, 0.0, 1.396666, 1.173516, 1.312278, 0.361837, 0.0, 0.0, 80.73173, 0.0, 0.0, 0.776393, 0.586986, -99.0, None, None, None, None, None, None, None, None, None, None, None, None, None, None, None, None, None, None, None, None, None, None, None, None, None, None, None, None, None, None, None, None, 1)"
      ]
     },
     "execution_count": 17,
     "metadata": {},
     "output_type": "execute_result"
    }
   ],
   "source": [
    "conn.execute(\"SELECT * from cosmos_160\").first()"
   ]
  },
  {
   "cell_type": "code",
   "execution_count": 18,
   "id": "0447823b-159f-47c4-9187-a22c632024ca",
   "metadata": {},
   "outputs": [],
   "source": [
    "conn.close()"
   ]
  },
  {
   "cell_type": "code",
   "execution_count": null,
   "id": "aca3368f-221b-4492-bdf6-aeede3261e20",
   "metadata": {},
   "outputs": [],
   "source": []
  }
 ],
 "metadata": {
  "kernelspec": {
   "display_name": "Prospector",
   "language": "python",
   "name": "myprospector"
  },
  "language_info": {
   "codemirror_mode": {
    "name": "ipython",
    "version": 3
   },
   "file_extension": ".py",
   "mimetype": "text/x-python",
   "name": "python",
   "nbconvert_exporter": "python",
   "pygments_lexer": "ipython3",
   "version": "3.9.12"
  }
 },
 "nbformat": 4,
 "nbformat_minor": 5
}

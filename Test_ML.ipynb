{
 "cells": [
  {
   "cell_type": "markdown",
   "id": "46c737c3-12e1-4431-b3af-bfb249c26fab",
   "metadata": {},
   "source": [
    "# New ML Run 2/27/23"
   ]
  },
  {
   "cell_type": "code",
   "execution_count": 1,
   "id": "6932aaa6-cf9c-43e1-b541-ac9298d3bf24",
   "metadata": {},
   "outputs": [
    {
     "name": "stderr",
     "output_type": "stream",
     "text": [
      "<frozen importlib._bootstrap>:228: RuntimeWarning: scipy._lib.messagestream.MessageStream size changed, may indicate binary incompatibility. Expected 56 from C header, got 64 from PyObject\n"
     ]
    }
   ],
   "source": [
    "import numpy as np\n",
    "import pandas as pd\n",
    "import util\n",
    "import matplotlib.pyplot as plt\n",
    "\n",
    "from sqlalchemy import create_engine, Column, Table, MetaData, insert\n",
    "from sqlalchemy.types import BIGINT, FLOAT, REAL, VARCHAR, BOOLEAN\n",
    "\n",
    "data_dir = \"/global/cscratch1/sd/eramey16/data/dr9_training/unlensed_02_23/\"\n",
    "seed = 42\n",
    "\n",
    "conn_string = 'postgresql+psycopg2://lensed_db_admin@nerscdb03.nersc.gov/lensed_db'"
   ]
  },
  {
   "cell_type": "markdown",
   "id": "e4690b5c-9671-48c1-9df2-6e896b9f673b",
   "metadata": {},
   "source": [
    "##### Downloaded galaxies from 6 degrees around RA 160 DEC 2\n",
    "[DESI Legacy Survey](https://datalab.noirlab.edu/query.php?name=ls_dr9.photo_z)\n",
    "query:\n",
    "```\n",
    "SELECT trac.ls_id, trac.ra, trac.dec, trac.type, trac.dered_mag_g, trac.dered_mag_r, trac.dered_mag_z, trac.dered_mag_w1, trac.dered_mag_w2,\n",
    "trac.dered_flux_g, trac.dered_flux_r, trac.dered_flux_z, trac.dered_flux_w1, trac.dered_flux_w2,\n",
    "trac.snr_g, trac.snr_r, trac.snr_z, trac.snr_w1, trac.snr_w2,\n",
    "trac.flux_ivar_g, trac.flux_ivar_r, trac.flux_ivar_z, trac.flux_ivar_w1, trac.flux_ivar_w2,\n",
    "trac.dchisq_1, trac.dchisq_2, trac.dchisq_3, trac.dchisq_4, trac.dchisq_5,\n",
    "trac.rchisq_g, trac.rchisq_r, trac.rchisq_z, trac.rchisq_w1, trac.rchisq_w2,\n",
    "trac.sersic, trac.sersic_ivar,\n",
    "trac.psfsize_g, trac.psfsize_r, trac.psfsize_z,\n",
    "trac.shape_r, trac.shape_e1, trac.shape_e2,\n",
    "trac.shape_r_ivar, trac.shape_e1_ivar, trac.shape_e2_ivar,\n",
    "phot_z.z_phot_median, phot_z.z_phot_std, phot_z.z_spec\n",
    "FROM ls_dr9.tractor AS trac\n",
    "INNER JOIN ls_dr9.photo_z AS phot_z ON trac.ls_id = phot_z.ls_id\n",
    "WHERE (q3c_radial_query(ra,dec, 160, 2, 6))\n",
    "AND NOT trac.type='PSF'\n",
    "AND NOT trac.type='DUP'\n",
    "ORDER BY trac.random_id\n",
    "```"
   ]
  },
  {
   "cell_type": "code",
   "execution_count": 2,
   "id": "1196d202-df1e-449a-85a2-624bb40f4b90",
   "metadata": {},
   "outputs": [
    {
     "data": {
      "text/plain": [
       "[<matplotlib.lines.Line2D at 0x1555169bfc10>]"
      ]
     },
     "execution_count": 2,
     "metadata": {},
     "output_type": "execute_result"
    },
    {
     "data": {
      "image/png": "[encoded data removed]",
      "text/plain": [
       "<Figure size 432x288 with 1 Axes>"
      ]
     },
     "metadata": {
      "needs_background": "light"
     },
     "output_type": "display_data"
    }
   ],
   "source": [
    "all_galaxies = pd.read_csv(data_dir+\"dr9_160_2_6deg.dat\")\n",
    "plt.plot(all_galaxies.ra, all_galaxies.dec, '.', ms=1)"
   ]
  },
  {
   "cell_type": "code",
   "execution_count": 3,
   "id": "f6a168e7-a95b-437d-bd11-4993a5e0a7b6",
   "metadata": {},
   "outputs": [
    {
     "name": "stderr",
     "output_type": "stream",
     "text": [
      "/global/homes/e/eramey16/.conda/envs/myprospector/lib/python3.9/site-packages/pandas/core/arraylike.py:397: RuntimeWarning: invalid value encountered in log10\n",
      "  result = getattr(ufunc, method)(*inputs, **kwargs)\n"
     ]
    }
   ],
   "source": [
    "db_cols = all_galaxies.columns\n",
    "clean_galaxies = util.clean_and_calc(all_galaxies, mode='dr9')\n",
    "clean_galaxies = clean_galaxies.sample(n=10000, random_state=seed).reset_index(drop=True)\n",
    "clean_galaxies = clean_galaxies[db_cols]"
   ]
  },
  {
   "cell_type": "code",
   "execution_count": 4,
   "id": "7e1b862e-e12a-40ab-afc3-0363680e920e",
   "metadata": {},
   "outputs": [],
   "source": [
    "engine = create_engine(conn_string)\n",
    "conn = engine.connect()\n",
    "\n",
    "util.bookkeeping_setup(conn, 'cosmos_160', clean_galaxies, tag='run2')"
   ]
  },
  {
   "cell_type": "code",
   "execution_count": 5,
   "id": "fff6a75e-a593-4790-a2fb-5606326ce22d",
   "metadata": {},
   "outputs": [
    {
     "data": {
      "text/html": [
       "<div>\n",
       "<style scoped>\n",
       "    .dataframe tbody tr th:only-of-type {\n",
       "        vertical-align: middle;\n",
       "    }\n",
       "\n",
       "    .dataframe tbody tr th {\n",
       "        vertical-align: top;\n",
       "    }\n",
       "\n",
       "    .dataframe thead th {\n",
       "        text-align: right;\n",
       "    }\n",
       "</style>\n",
       "<table border=\"1\" class=\"dataframe\">\n",
       "  <thead>\n",
       "    <tr style=\"text-align: right;\">\n",
       "      <th></th>\n",
       "      <th>id</th>\n",
       "      <th>tbl_id</th>\n",
       "      <th>tbl_name</th>\n",
       "      <th>ls_id</th>\n",
       "      <th>created</th>\n",
       "      <th>stage</th>\n",
       "      <th>tag</th>\n",
       "    </tr>\n",
       "  </thead>\n",
       "  <tbody>\n",
       "    <tr>\n",
       "      <th>0</th>\n",
       "      <td>1</td>\n",
       "      <td>1</td>\n",
       "      <td>cosmos_160</td>\n",
       "      <td>9906621743042266</td>\n",
       "      <td>2023-03-07 22:20:19.058976</td>\n",
       "      <td>1</td>\n",
       "      <td>run2</td>\n",
       "    </tr>\n",
       "    <tr>\n",
       "      <th>1</th>\n",
       "      <td>2</td>\n",
       "      <td>2</td>\n",
       "      <td>cosmos_160</td>\n",
       "      <td>9906621271050433</td>\n",
       "      <td>2023-03-07 22:20:19.077879</td>\n",
       "      <td>1</td>\n",
       "      <td>run2</td>\n",
       "    </tr>\n",
       "    <tr>\n",
       "      <th>2</th>\n",
       "      <td>3</td>\n",
       "      <td>3</td>\n",
       "      <td>cosmos_160</td>\n",
       "      <td>9906621648077981</td>\n",
       "      <td>2023-03-07 22:20:19.083887</td>\n",
       "      <td>1</td>\n",
       "      <td>run2</td>\n",
       "    </tr>\n",
       "    <tr>\n",
       "      <th>3</th>\n",
       "      <td>4</td>\n",
       "      <td>4</td>\n",
       "      <td>cosmos_160</td>\n",
       "      <td>9906621929816416</td>\n",
       "      <td>2023-03-07 22:20:19.091293</td>\n",
       "      <td>1</td>\n",
       "      <td>run2</td>\n",
       "    </tr>\n",
       "    <tr>\n",
       "      <th>4</th>\n",
       "      <td>5</td>\n",
       "      <td>5</td>\n",
       "      <td>cosmos_160</td>\n",
       "      <td>9906621647291909</td>\n",
       "      <td>2023-03-07 22:20:19.096316</td>\n",
       "      <td>1</td>\n",
       "      <td>run2</td>\n",
       "    </tr>\n",
       "    <tr>\n",
       "      <th>...</th>\n",
       "      <td>...</td>\n",
       "      <td>...</td>\n",
       "      <td>...</td>\n",
       "      <td>...</td>\n",
       "      <td>...</td>\n",
       "      <td>...</td>\n",
       "      <td>...</td>\n",
       "    </tr>\n",
       "    <tr>\n",
       "      <th>9995</th>\n",
       "      <td>9996</td>\n",
       "      <td>9996</td>\n",
       "      <td>cosmos_160</td>\n",
       "      <td>9906622309140574</td>\n",
       "      <td>2023-03-07 22:21:44.205694</td>\n",
       "      <td>1</td>\n",
       "      <td>run2</td>\n",
       "    </tr>\n",
       "    <tr>\n",
       "      <th>9996</th>\n",
       "      <td>9997</td>\n",
       "      <td>9997</td>\n",
       "      <td>cosmos_160</td>\n",
       "      <td>9906621460125395</td>\n",
       "      <td>2023-03-07 22:21:44.211451</td>\n",
       "      <td>1</td>\n",
       "      <td>run2</td>\n",
       "    </tr>\n",
       "    <tr>\n",
       "      <th>9997</th>\n",
       "      <td>9998</td>\n",
       "      <td>9998</td>\n",
       "      <td>cosmos_160</td>\n",
       "      <td>9906623439438358</td>\n",
       "      <td>2023-03-07 22:21:44.219393</td>\n",
       "      <td>1</td>\n",
       "      <td>run2</td>\n",
       "    </tr>\n",
       "    <tr>\n",
       "      <th>9998</th>\n",
       "      <td>9999</td>\n",
       "      <td>9999</td>\n",
       "      <td>cosmos_160</td>\n",
       "      <td>9906622213654027</td>\n",
       "      <td>2023-03-07 22:21:44.225291</td>\n",
       "      <td>1</td>\n",
       "      <td>run2</td>\n",
       "    </tr>\n",
       "    <tr>\n",
       "      <th>9999</th>\n",
       "      <td>10000</td>\n",
       "      <td>10000</td>\n",
       "      <td>cosmos_160</td>\n",
       "      <td>9906620704886771</td>\n",
       "      <td>2023-03-07 22:21:44.232564</td>\n",
       "      <td>1</td>\n",
       "      <td>run2</td>\n",
       "    </tr>\n",
       "  </tbody>\n",
       "</table>\n",
       "<p>10000 rows × 7 columns</p>\n",
       "</div>"
      ],
      "text/plain": [
       "         id  tbl_id    tbl_name             ls_id                    created  \\\n",
       "0         1       1  cosmos_160  9906621743042266 2023-03-07 22:20:19.058976   \n",
       "1         2       2  cosmos_160  9906621271050433 2023-03-07 22:20:19.077879   \n",
       "2         3       3  cosmos_160  9906621648077981 2023-03-07 22:20:19.083887   \n",
       "3         4       4  cosmos_160  9906621929816416 2023-03-07 22:20:19.091293   \n",
       "4         5       5  cosmos_160  9906621647291909 2023-03-07 22:20:19.096316   \n",
       "...     ...     ...         ...               ...                        ...   \n",
       "9995   9996    9996  cosmos_160  9906622309140574 2023-03-07 22:21:44.205694   \n",
       "9996   9997    9997  cosmos_160  9906621460125395 2023-03-07 22:21:44.211451   \n",
       "9997   9998    9998  cosmos_160  9906623439438358 2023-03-07 22:21:44.219393   \n",
       "9998   9999    9999  cosmos_160  9906622213654027 2023-03-07 22:21:44.225291   \n",
       "9999  10000   10000  cosmos_160  9906620704886771 2023-03-07 22:21:44.232564   \n",
       "\n",
       "      stage   tag  \n",
       "0         1  run2  \n",
       "1         1  run2  \n",
       "2         1  run2  \n",
       "3         1  run2  \n",
       "4         1  run2  \n",
       "...     ...   ...  \n",
       "9995      1  run2  \n",
       "9996      1  run2  \n",
       "9997      1  run2  \n",
       "9998      1  run2  \n",
       "9999      1  run2  \n",
       "\n",
       "[10000 rows x 7 columns]"
      ]
     },
     "execution_count": 5,
     "metadata": {},
     "output_type": "execute_result"
    }
   ],
   "source": [
    "pd.DataFrame(conn.execute(\"SELECT * from bookkeeping\"))"
   ]
  },
  {
   "cell_type": "code",
   "execution_count": 6,
   "id": "7a00d31b-4918-4dae-88af-3cee963c7a67",
   "metadata": {},
   "outputs": [
    {
     "data": {
      "text/plain": [
       "(9906621743042266, 162.910029571106, 0.81542817820044, 'REX', 23.42378, 22.469233, 21.555038, 20.804296, 21.673061, 0.427059, 1.028744, 2.387727, 4.767399, 2.141782, 14.504388, 22.860104, 25.552435, 8.278383, 1.702473, 1527.4186, 596.59454, 127.30318, 3.064141, 0.638112, 1297.0767, 1389.1155, 1384.5988, 1395.198, 0.0, 0.982051, 0.876592, 1.034885, 0.561166, 0.506167, 1.0, 0.0, 1.39972, 1.306459, 1.392947, 0.364783, 0.0, 0.0, 1755.2955, 0.0, 0.0, 0.698765, 0.079279, -99.0, None, None, None, None, None, None, None, None, None, None, None, None, None, None, None, None, None, None, None, None, None, None, None, None, None, None, None, None, None, None, None, None, 1)"
      ]
     },
     "execution_count": 6,
     "metadata": {},
     "output_type": "execute_result"
    }
   ],
   "source": [
    "conn.execute(\"SELECT * from cosmos_160\").first()"
   ]
  },
  {
   "cell_type": "code",
   "execution_count": 7,
   "id": "0447823b-159f-47c4-9187-a22c632024ca",
   "metadata": {},
   "outputs": [],
   "source": [
    "conn.close()"
   ]
  },
  {
   "cell_type": "markdown",
   "id": "19a08348-c19b-443c-ac60-3df4bfa49500",
   "metadata": {},
   "source": [
    "### Running classify"
   ]
  },
  {
   "cell_type": "code",
   "execution_count": 1,
   "id": "aca3368f-221b-4492-bdf6-aeede3261e20",
   "metadata": {},
   "outputs": [
    {
     "name": "stderr",
     "output_type": "stream",
     "text": [
      "<frozen importlib._bootstrap>:228: RuntimeWarning: scipy._lib.messagestream.MessageStream size changed, may indicate binary incompatibility. Expected 56 from C header, got 64 from PyObject\n"
     ]
    }
   ],
   "source": [
    "from docker import classify\n",
    "import util\n",
    "import sqlalchemy\n",
    "import pandas as pd\n",
    "import numpy as np"
   ]
  },
  {
   "cell_type": "code",
   "execution_count": 2,
   "id": "4ac72d9f-97d5-4fcf-992c-c824080a8991",
   "metadata": {},
   "outputs": [],
   "source": [
    "bkdata, tbldata = classify.get_galaxy(ls_id=9906621743042266)\n",
    "gal_data = tbldata.iloc[0]"
   ]
  },
  {
   "cell_type": "code",
   "execution_count": 3,
   "id": "1cd11fbd-f14b-4523-8c63-887f1c3a00d3",
   "metadata": {},
   "outputs": [],
   "source": [
    "# tbldata"
   ]
  },
  {
   "cell_type": "code",
   "execution_count": 4,
   "id": "c430653d-5f92-417f-845b-eeb592515658",
   "metadata": {},
   "outputs": [
    {
     "data": {
      "text/plain": [
       "0.698765"
      ]
     },
     "execution_count": 4,
     "metadata": {},
     "output_type": "execute_result"
    }
   ],
   "source": [
    "gal_data.z_phot_median"
   ]
  },
  {
   "cell_type": "code",
   "execution_count": 5,
   "id": "bdc01e74-0a86-4746-bc66-6cc9c59815a5",
   "metadata": {},
   "outputs": [
    {
     "name": "stdout",
     "output_type": "stream",
     "text": [
      "[23.42378, 22.469233, 21.555038, 20.804296, 21.673061]\n"
     ]
    }
   ],
   "source": [
    "bands = ['g', 'r', 'z', 'w1', 'w2']\n",
    "\n",
    "print([gal_data[f'dered_mag_{b}'] for b in bands])"
   ]
  },
  {
   "cell_type": "code",
   "execution_count": 6,
   "id": "0567364d-3a42-46d6-9a9c-3028c47bc8b7",
   "metadata": {},
   "outputs": [
    {
     "name": "stdout",
     "output_type": "stream",
     "text": [
      "[0.06505151325479806, 0.04320931361045458, 0.04030138982839337, 0.1301033400196666, 0.6346007773114765]\n"
     ]
    }
   ],
   "source": [
    "print([ 2.5 / (np.log(10) * gal_data['dered_flux_'+b] * \n",
    "                        np.sqrt(gal_data['flux_ivar_'+b])) for b in bands])"
   ]
  },
  {
   "cell_type": "code",
   "execution_count": 7,
   "id": "4b646da5-0a94-480c-b5e2-5577bc22e241",
   "metadata": {},
   "outputs": [
    {
     "name": "stdout",
     "output_type": "stream",
     "text": [
      "Object found: 9906621743042266\n",
      "Redshift: 0.698765\n"
     ]
    }
   ],
   "source": [
    "h5_file = \"/global/cscratch1/sd/eramey16/data/dr9_training/unlensed_02_23/9906621743042266.h5\"\n",
    "gal_data = classify.merge_prospector(tbldata, h5_file=h5_file)"
   ]
  },
  {
   "cell_type": "code",
   "execution_count": 8,
   "id": "eb7bf476-5e1d-428d-a599-16cb1fd5de80",
   "metadata": {},
   "outputs": [],
   "source": [
    "mfile = \"/global/homes/e/eramey16/galactic_lenses/gridsearch_models/gridsearch_2023-02-15.sav\"\n",
    "pred = classify.predict(gal_data, model_file=mfile)\n",
    "gal_data['lensed'] = pred"
   ]
  },
  {
   "cell_type": "code",
   "execution_count": 9,
   "id": "198d03ac-fbcb-414d-bde8-947d2aace43e",
   "metadata": {},
   "outputs": [
    {
     "name": "stdout",
     "output_type": "stream",
     "text": [
      "first done\n"
     ]
    }
   ],
   "source": [
    "# classify.update_db(bkdata, gal_data)"
   ]
  },
  {
   "cell_type": "code",
   "execution_count": 3,
   "id": "380f91c2-b3bd-442c-a887-406416068406",
   "metadata": {},
   "outputs": [],
   "source": [
    "engine = sqlalchemy.create_engine(util.conn_string)\n",
    "conn = engine.connect()"
   ]
  },
  {
   "cell_type": "code",
   "execution_count": 4,
   "id": "dcadf568-adf5-407e-87f2-7089f0b7801d",
   "metadata": {},
   "outputs": [
    {
     "data": {
      "text/plain": [
       "(9906621743042266, 162.910029571106, 0.81542817820044, 'REX', 23.42378, 22.469233, 21.555038, 20.804296, 21.673061, 0.427059, 1.028744, 2.387727, 4.767399, 2.141782, 14.504388, 22.860104, 25.552435, 8.278383, 1.702473, 1527.4186, 596.59454, 127.30318, 3.064141, 0.638112, 1297.0767, 1389.1155, 1384.5988, 1395.198, 0.0, 0.982051, 0.876592, 1.034885, 0.561166, 0.506167, 1.0, 0.0, 1.39972, 1.306459, 1.392947, 0.364783, 0.0, 0.0, 1755.2955, 0.0, 0.0, 0.698765, 0.079279, -99.0, 4.27059119198179e-10, 1.02874277944854e-09, 2.38772771266793e-09, 4.76740008625971e-09, 2.14178365534728e-09, 2.63691629192768e-11, 4.17667199258915e-11, 9.02954181568338e-11, 6.06912664544251e-10, 1.70073434754316e-09, 4.56131768358815e-10, 9.68571501943363e-10, 2.43840683243489e-09, 4.5565034617454e-09, 2.97225793854728e-09, 0.570826260065676, 0.222393715374206, 10.1173792169235, -0.0237380588507266, -0.936602424868841, 0.185024294190844, 0.096018752583561, 0.0660736808940854, 0.206412383037788, 0.166462641587396, 0.141212826110965, 0.337451603984334, 0.079100729340734, 0.0847818929862605, 0.25369679818077, 0.991309548240992, False, 1)"
      ]
     },
     "execution_count": 4,
     "metadata": {},
     "output_type": "execute_result"
    }
   ],
   "source": [
    "conn.execute(\"SELECT * from cosmos_160 where ls_id=9906621743042266\").first()"
   ]
  },
  {
   "cell_type": "code",
   "execution_count": 6,
   "id": "75f9399b-551b-4e6a-8e1c-329e065b1415",
   "metadata": {},
   "outputs": [
    {
     "data": {
      "text/plain": [
       "(1, 1, 'cosmos_160', 9906621743042266, datetime.datetime(2023, 3, 7, 0, 13, 7, 456273), 2, 'run2')"
      ]
     },
     "execution_count": 6,
     "metadata": {},
     "output_type": "execute_result"
    }
   ],
   "source": [
    "conn.execute(\"SELECT * from bookkeeping where id=1\").first()"
   ]
  },
  {
   "cell_type": "code",
   "execution_count": null,
   "id": "6fba1854-d473-4e5e-aeb8-c4056de34917",
   "metadata": {},
   "outputs": [],
   "source": []
  }
 ],
 "metadata": {
  "kernelspec": {
   "display_name": "Prospector",
   "language": "python",
   "name": "myprospector"
  },
  "language_info": {
   "codemirror_mode": {
    "name": "ipython",
    "version": 3
   },
   "file_extension": ".py",
   "mimetype": "text/x-python",
   "name": "python",
   "nbconvert_exporter": "python",
   "pygments_lexer": "ipython3",
   "version": "3.9.12"
  }
 },
 "nbformat": 4,
 "nbformat_minor": 5
}
